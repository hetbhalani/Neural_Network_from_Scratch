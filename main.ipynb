{
 "cells": [
  {
   "cell_type": "code",
   "execution_count": 39,
   "metadata": {
    "_cell_guid": "b1076dfc-b9ad-4769-8c92-a6c4dae69d19",
    "_uuid": "8f2839f25d086af736a60e9eeb907d3b93b6e0e5",
    "execution": {
     "iopub.execute_input": "2025-06-22T03:08:10.502367Z",
     "iopub.status.busy": "2025-06-22T03:08:10.501833Z",
     "iopub.status.idle": "2025-06-22T03:08:10.505790Z",
     "shell.execute_reply": "2025-06-22T03:08:10.504921Z",
     "shell.execute_reply.started": "2025-06-22T03:08:10.502342Z"
    },
    "trusted": true
   },
   "outputs": [],
   "source": [
    "import numpy as np\n",
    "import pandas as pd"
   ]
  },
  {
   "cell_type": "code",
   "execution_count": null,
   "metadata": {
    "trusted": true
   },
   "outputs": [],
   "source": [
    "df = pd.read_csv('/kaggle/input/digit-recognizer/train.csv')"
   ]
  },
  {
   "cell_type": "code",
   "execution_count": null,
   "metadata": {
    "trusted": true
   },
   "outputs": [],
   "source": [
    "df.head(10)"
   ]
  },
  {
   "cell_type": "code",
   "execution_count": null,
   "metadata": {
    "trusted": true
   },
   "outputs": [],
   "source": [
    "df.shape"
   ]
  },
  {
   "cell_type": "code",
   "execution_count": null,
   "metadata": {
    "trusted": true
   },
   "outputs": [],
   "source": [
    "row, col = df.shape"
   ]
  },
  {
   "cell_type": "code",
   "execution_count": null,
   "metadata": {
    "trusted": true
   },
   "outputs": [],
   "source": [
    "df = np.array(df)\n",
    "# convert our dataset into numpy array"
   ]
  },
  {
   "cell_type": "code",
   "execution_count": null,
   "metadata": {
    "trusted": true
   },
   "outputs": [],
   "source": [
    "#2000-42000 rows for training\n",
    "train_data = df[2000:row].T \n",
    "X_train = train_data[1:col]\n",
    "y_train = train_data[0]\n",
    "\n",
    "#first 1000 for test\n",
    "test_data = df[:2000].T\n",
    "X_test = test_data[1:col]\n",
    "y_test = test_data[0]"
   ]
  },
  {
   "cell_type": "code",
   "execution_count": null,
   "metadata": {
    "trusted": true
   },
   "outputs": [],
   "source": [
    "X_train[0]"
   ]
  },
  {
   "cell_type": "code",
   "execution_count": null,
   "metadata": {
    "trusted": true
   },
   "outputs": [],
   "source": [
    "y_train"
   ]
  },
  {
   "cell_type": "code",
   "execution_count": null,
   "metadata": {
    "trusted": true
   },
   "outputs": [],
   "source": [
    "#activation functions \n",
    "\n",
    "def ReLU(Z):\n",
    "    return np.maximum(0,Z)\n",
    "\n",
    "def derivation_ReLU(Z):\n",
    "    return Z>0\n",
    "    \n",
    "def softmax(Z):\n",
    "    return (np.exp(Z) / sum(np.exp(Z)))"
   ]
  },
  {
   "cell_type": "code",
   "execution_count": null,
   "metadata": {
    "trusted": true
   },
   "outputs": [],
   "source": [
    "#forward prop.\n",
    "\n",
    "def forward_prop(X,W1,B1,W2,B2):\n",
    "    Z1 = W1.dot(X) + B1\n",
    "    A1 = ReLU(Z1)\n",
    "    Z2 = W2.dot(A1) + B2\n",
    "    A2 = softmax(Z2)\n",
    "    return Z1,A1,Z2,A2"
   ]
  },
  {
   "cell_type": "code",
   "execution_count": null,
   "metadata": {
    "trusted": true
   },
   "outputs": [],
   "source": [
    "#one hot encoding\n",
    "\n",
    "def one_hot(Y):\n",
    "    return np.eye(Y.max() + 1)[Y]\n"
   ]
  },
  {
   "cell_type": "code",
   "execution_count": null,
   "metadata": {
    "trusted": true
   },
   "outputs": [],
   "source": [
    "#back prop\n",
    "\n",
    "def back_prop(X, Y, Z1, Z2, A1, A2, W1, W2):\n",
    "\n",
    "    m = X.shape[1]\n",
    "\n",
    "    Y = one_hot(Y)\n",
    "    dL_dZ2 = A2 - Y\n",
    "    dL_dW2 = 1/m * dL_dZ2.dot(A1.T)\n",
    "    dL_dB2 = 1/m * np.sum(dL_dZ2.T)\n",
    "    dL_dZ1 = (W2.T.dot(dL_dZ2)) * derivation_ReLU(Z1)\n",
    "    dL_dW1 = 1/m * dL_dZ1.dot(X.T)\n",
    "    dL_dB1 = 1/m * np.sum(dL_dZ1)\n",
    "\n",
    "    return dL_dW1,dL_dB1,dL_dW2,dL_dB2"
   ]
  },
  {
   "cell_type": "code",
   "execution_count": null,
   "metadata": {
    "trusted": true
   },
   "outputs": [],
   "source": [
    "#we cant init params with jst 0\n",
    "#if they are all zeroz then they learn same...\n",
    "\n",
    "def initilize_params():\n",
    "    \n",
    "    np.random.seed(9)\n",
    "    \n",
    "    W1 = np.random.rand(64,784) * np.sqrt(1. / 784)\n",
    "    B1 = np.zeros((64,1))\n",
    "    \n",
    "    W2 = np.random.rand(10,64) * np.sqrt(1. / 784)\n",
    "    B2 = np.zeros((10,1))\n",
    "    \n",
    "    return W1, B1, W2, B2"
   ]
  },
  {
   "cell_type": "code",
   "execution_count": null,
   "metadata": {
    "trusted": true
   },
   "outputs": [],
   "source": [
    "#Update params\n",
    "\n",
    "def update(W1, B1, W2, B2, dL_dW1, dL_dB1, dL_dW2, dL_dB2, alpha):\n",
    "    W1 = W1 - alpha * dL_dW1 #alpha = learning rate\n",
    "    B1 = B1 - alpha * dL_dB1\n",
    "\n",
    "    W2 = W2 - alpha * dL_dW2\n",
    "    B2 = B2 - alpha * dL_dB2\n",
    "\n",
    "    return W1, B1, W2, B2 "
   ]
  },
  {
   "cell_type": "code",
   "execution_count": null,
   "metadata": {
    "trusted": true
   },
   "outputs": [],
   "source": [
    "#TRAINING...\n",
    "\n",
    "#this will return max possibility for every digit\n",
    "def preds(A2):\n",
    "    return np.argmax(A2,0)\n",
    "\n",
    "def acc(Y, preds):\n",
    "    # print(Y)\n",
    "    return np.sum(Y == preds)/ Y.size\n",
    "\n",
    "def gradient_descent(X, Y, alpha, itrs):\n",
    "    W1, B1, W2, B2 = initilize_params()\n",
    "\n",
    "    for i in range(itrs):\n",
    "        Z1,A1,Z2,A2 = forward_prop(X,W1,B1,W2,B2)\n",
    "        dL_dW1, dL_dB1, dL_dW2, dL_dB2 = back_prop(X, Y, Z1, Z2, A1, A2, W1, W2)\n",
    "        W1, B1, W2, B2 = update(W1, B1, W2, B2, dL_dW1, dL_dB1, dL_dW2, dL_dB2, alpha)\n",
    "\n",
    "        if i %10 == 0:\n",
    "            print(f'Iteration: {i}')\n",
    "            pred = preds(A2)\n",
    "            accuracy = acc(Y, pred)\n",
    "            print(accuracy)\n",
    "            \n",
    "    return W1, B1,W2,B2"
   ]
  },
  {
   "cell_type": "code",
   "execution_count": null,
   "metadata": {
    "trusted": true
   },
   "outputs": [],
   "source": [
    "W1, B1, W2, B2 = gradient_descent(X_train, y_train, 0.1, 250)"
   ]
  },
  {
   "cell_type": "code",
   "execution_count": null,
   "metadata": {
    "trusted": true
   },
   "outputs": [],
   "source": []
  }
 ],
 "metadata": {
  "kaggle": {
   "accelerator": "nvidiaTeslaT4",
   "dataSources": [
    {
     "databundleVersionId": 861823,
     "sourceId": 3004,
     "sourceType": "competition"
    }
   ],
   "dockerImageVersionId": 31040,
   "isGpuEnabled": true,
   "isInternetEnabled": true,
   "language": "python",
   "sourceType": "notebook"
  },
  "kernelspec": {
   "display_name": "Python 3",
   "language": "python",
   "name": "python3"
  },
  "language_info": {
   "codemirror_mode": {
    "name": "ipython",
    "version": 3
   },
   "file_extension": ".py",
   "mimetype": "text/x-python",
   "name": "python",
   "nbconvert_exporter": "python",
   "pygments_lexer": "ipython3",
   "version": "3.12.4"
  }
 },
 "nbformat": 4,
 "nbformat_minor": 4
}
