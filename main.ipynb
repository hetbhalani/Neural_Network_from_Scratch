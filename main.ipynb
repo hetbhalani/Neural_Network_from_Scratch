{
 "cells": [
  {
   "cell_type": "code",
   "execution_count": 1,
   "id": "298d4485",
   "metadata": {
    "_cell_guid": "b1076dfc-b9ad-4769-8c92-a6c4dae69d19",
    "_uuid": "8f2839f25d086af736a60e9eeb907d3b93b6e0e5",
    "execution": {
     "iopub.execute_input": "2025-06-21T17:24:22.764506Z",
     "iopub.status.busy": "2025-06-21T17:24:22.764190Z",
     "iopub.status.idle": "2025-06-21T17:24:24.558754Z",
     "shell.execute_reply": "2025-06-21T17:24:24.557957Z"
    },
    "papermill": {
     "duration": 1.801135,
     "end_time": "2025-06-21T17:24:24.560449",
     "exception": false,
     "start_time": "2025-06-21T17:24:22.759314",
     "status": "completed"
    },
    "tags": []
   },
   "outputs": [],
   "source": [
    "import numpy as np\n",
    "import pandas as pd"
   ]
  },
  {
   "cell_type": "code",
   "execution_count": 2,
   "id": "c0f2a62e",
   "metadata": {
    "execution": {
     "iopub.execute_input": "2025-06-21T17:24:24.568129Z",
     "iopub.status.busy": "2025-06-21T17:24:24.567678Z",
     "iopub.status.idle": "2025-06-21T17:24:27.748922Z",
     "shell.execute_reply": "2025-06-21T17:24:27.748025Z"
    },
    "papermill": {
     "duration": 3.1868,
     "end_time": "2025-06-21T17:24:27.750694",
     "exception": false,
     "start_time": "2025-06-21T17:24:24.563894",
     "status": "completed"
    },
    "tags": []
   },
   "outputs": [],
   "source": [
    "df = pd.read_csv('/kaggle/input/digit-recognizer/train.csv')\n"
   ]
  },
  {
   "cell_type": "code",
   "execution_count": 3,
   "id": "2e302a20",
   "metadata": {
    "execution": {
     "iopub.execute_input": "2025-06-21T17:24:27.758251Z",
     "iopub.status.busy": "2025-06-21T17:24:27.757419Z",
     "iopub.status.idle": "2025-06-21T17:24:27.787768Z",
     "shell.execute_reply": "2025-06-21T17:24:27.786918Z"
    },
    "papermill": {
     "duration": 0.035475,
     "end_time": "2025-06-21T17:24:27.789261",
     "exception": false,
     "start_time": "2025-06-21T17:24:27.753786",
     "status": "completed"
    },
    "tags": []
   },
   "outputs": [
    {
     "data": {
      "text/html": [
       "<div>\n",
       "<style scoped>\n",
       "    .dataframe tbody tr th:only-of-type {\n",
       "        vertical-align: middle;\n",
       "    }\n",
       "\n",
       "    .dataframe tbody tr th {\n",
       "        vertical-align: top;\n",
       "    }\n",
       "\n",
       "    .dataframe thead th {\n",
       "        text-align: right;\n",
       "    }\n",
       "</style>\n",
       "<table border=\"1\" class=\"dataframe\">\n",
       "  <thead>\n",
       "    <tr style=\"text-align: right;\">\n",
       "      <th></th>\n",
       "      <th>label</th>\n",
       "      <th>pixel0</th>\n",
       "      <th>pixel1</th>\n",
       "      <th>pixel2</th>\n",
       "      <th>pixel3</th>\n",
       "      <th>pixel4</th>\n",
       "      <th>pixel5</th>\n",
       "      <th>pixel6</th>\n",
       "      <th>pixel7</th>\n",
       "      <th>pixel8</th>\n",
       "      <th>...</th>\n",
       "      <th>pixel774</th>\n",
       "      <th>pixel775</th>\n",
       "      <th>pixel776</th>\n",
       "      <th>pixel777</th>\n",
       "      <th>pixel778</th>\n",
       "      <th>pixel779</th>\n",
       "      <th>pixel780</th>\n",
       "      <th>pixel781</th>\n",
       "      <th>pixel782</th>\n",
       "      <th>pixel783</th>\n",
       "    </tr>\n",
       "  </thead>\n",
       "  <tbody>\n",
       "    <tr>\n",
       "      <th>0</th>\n",
       "      <td>1</td>\n",
       "      <td>0</td>\n",
       "      <td>0</td>\n",
       "      <td>0</td>\n",
       "      <td>0</td>\n",
       "      <td>0</td>\n",
       "      <td>0</td>\n",
       "      <td>0</td>\n",
       "      <td>0</td>\n",
       "      <td>0</td>\n",
       "      <td>...</td>\n",
       "      <td>0</td>\n",
       "      <td>0</td>\n",
       "      <td>0</td>\n",
       "      <td>0</td>\n",
       "      <td>0</td>\n",
       "      <td>0</td>\n",
       "      <td>0</td>\n",
       "      <td>0</td>\n",
       "      <td>0</td>\n",
       "      <td>0</td>\n",
       "    </tr>\n",
       "    <tr>\n",
       "      <th>1</th>\n",
       "      <td>0</td>\n",
       "      <td>0</td>\n",
       "      <td>0</td>\n",
       "      <td>0</td>\n",
       "      <td>0</td>\n",
       "      <td>0</td>\n",
       "      <td>0</td>\n",
       "      <td>0</td>\n",
       "      <td>0</td>\n",
       "      <td>0</td>\n",
       "      <td>...</td>\n",
       "      <td>0</td>\n",
       "      <td>0</td>\n",
       "      <td>0</td>\n",
       "      <td>0</td>\n",
       "      <td>0</td>\n",
       "      <td>0</td>\n",
       "      <td>0</td>\n",
       "      <td>0</td>\n",
       "      <td>0</td>\n",
       "      <td>0</td>\n",
       "    </tr>\n",
       "    <tr>\n",
       "      <th>2</th>\n",
       "      <td>1</td>\n",
       "      <td>0</td>\n",
       "      <td>0</td>\n",
       "      <td>0</td>\n",
       "      <td>0</td>\n",
       "      <td>0</td>\n",
       "      <td>0</td>\n",
       "      <td>0</td>\n",
       "      <td>0</td>\n",
       "      <td>0</td>\n",
       "      <td>...</td>\n",
       "      <td>0</td>\n",
       "      <td>0</td>\n",
       "      <td>0</td>\n",
       "      <td>0</td>\n",
       "      <td>0</td>\n",
       "      <td>0</td>\n",
       "      <td>0</td>\n",
       "      <td>0</td>\n",
       "      <td>0</td>\n",
       "      <td>0</td>\n",
       "    </tr>\n",
       "    <tr>\n",
       "      <th>3</th>\n",
       "      <td>4</td>\n",
       "      <td>0</td>\n",
       "      <td>0</td>\n",
       "      <td>0</td>\n",
       "      <td>0</td>\n",
       "      <td>0</td>\n",
       "      <td>0</td>\n",
       "      <td>0</td>\n",
       "      <td>0</td>\n",
       "      <td>0</td>\n",
       "      <td>...</td>\n",
       "      <td>0</td>\n",
       "      <td>0</td>\n",
       "      <td>0</td>\n",
       "      <td>0</td>\n",
       "      <td>0</td>\n",
       "      <td>0</td>\n",
       "      <td>0</td>\n",
       "      <td>0</td>\n",
       "      <td>0</td>\n",
       "      <td>0</td>\n",
       "    </tr>\n",
       "    <tr>\n",
       "      <th>4</th>\n",
       "      <td>0</td>\n",
       "      <td>0</td>\n",
       "      <td>0</td>\n",
       "      <td>0</td>\n",
       "      <td>0</td>\n",
       "      <td>0</td>\n",
       "      <td>0</td>\n",
       "      <td>0</td>\n",
       "      <td>0</td>\n",
       "      <td>0</td>\n",
       "      <td>...</td>\n",
       "      <td>0</td>\n",
       "      <td>0</td>\n",
       "      <td>0</td>\n",
       "      <td>0</td>\n",
       "      <td>0</td>\n",
       "      <td>0</td>\n",
       "      <td>0</td>\n",
       "      <td>0</td>\n",
       "      <td>0</td>\n",
       "      <td>0</td>\n",
       "    </tr>\n",
       "    <tr>\n",
       "      <th>5</th>\n",
       "      <td>0</td>\n",
       "      <td>0</td>\n",
       "      <td>0</td>\n",
       "      <td>0</td>\n",
       "      <td>0</td>\n",
       "      <td>0</td>\n",
       "      <td>0</td>\n",
       "      <td>0</td>\n",
       "      <td>0</td>\n",
       "      <td>0</td>\n",
       "      <td>...</td>\n",
       "      <td>0</td>\n",
       "      <td>0</td>\n",
       "      <td>0</td>\n",
       "      <td>0</td>\n",
       "      <td>0</td>\n",
       "      <td>0</td>\n",
       "      <td>0</td>\n",
       "      <td>0</td>\n",
       "      <td>0</td>\n",
       "      <td>0</td>\n",
       "    </tr>\n",
       "    <tr>\n",
       "      <th>6</th>\n",
       "      <td>7</td>\n",
       "      <td>0</td>\n",
       "      <td>0</td>\n",
       "      <td>0</td>\n",
       "      <td>0</td>\n",
       "      <td>0</td>\n",
       "      <td>0</td>\n",
       "      <td>0</td>\n",
       "      <td>0</td>\n",
       "      <td>0</td>\n",
       "      <td>...</td>\n",
       "      <td>0</td>\n",
       "      <td>0</td>\n",
       "      <td>0</td>\n",
       "      <td>0</td>\n",
       "      <td>0</td>\n",
       "      <td>0</td>\n",
       "      <td>0</td>\n",
       "      <td>0</td>\n",
       "      <td>0</td>\n",
       "      <td>0</td>\n",
       "    </tr>\n",
       "    <tr>\n",
       "      <th>7</th>\n",
       "      <td>3</td>\n",
       "      <td>0</td>\n",
       "      <td>0</td>\n",
       "      <td>0</td>\n",
       "      <td>0</td>\n",
       "      <td>0</td>\n",
       "      <td>0</td>\n",
       "      <td>0</td>\n",
       "      <td>0</td>\n",
       "      <td>0</td>\n",
       "      <td>...</td>\n",
       "      <td>0</td>\n",
       "      <td>0</td>\n",
       "      <td>0</td>\n",
       "      <td>0</td>\n",
       "      <td>0</td>\n",
       "      <td>0</td>\n",
       "      <td>0</td>\n",
       "      <td>0</td>\n",
       "      <td>0</td>\n",
       "      <td>0</td>\n",
       "    </tr>\n",
       "    <tr>\n",
       "      <th>8</th>\n",
       "      <td>5</td>\n",
       "      <td>0</td>\n",
       "      <td>0</td>\n",
       "      <td>0</td>\n",
       "      <td>0</td>\n",
       "      <td>0</td>\n",
       "      <td>0</td>\n",
       "      <td>0</td>\n",
       "      <td>0</td>\n",
       "      <td>0</td>\n",
       "      <td>...</td>\n",
       "      <td>0</td>\n",
       "      <td>0</td>\n",
       "      <td>0</td>\n",
       "      <td>0</td>\n",
       "      <td>0</td>\n",
       "      <td>0</td>\n",
       "      <td>0</td>\n",
       "      <td>0</td>\n",
       "      <td>0</td>\n",
       "      <td>0</td>\n",
       "    </tr>\n",
       "    <tr>\n",
       "      <th>9</th>\n",
       "      <td>3</td>\n",
       "      <td>0</td>\n",
       "      <td>0</td>\n",
       "      <td>0</td>\n",
       "      <td>0</td>\n",
       "      <td>0</td>\n",
       "      <td>0</td>\n",
       "      <td>0</td>\n",
       "      <td>0</td>\n",
       "      <td>0</td>\n",
       "      <td>...</td>\n",
       "      <td>0</td>\n",
       "      <td>0</td>\n",
       "      <td>0</td>\n",
       "      <td>0</td>\n",
       "      <td>0</td>\n",
       "      <td>0</td>\n",
       "      <td>0</td>\n",
       "      <td>0</td>\n",
       "      <td>0</td>\n",
       "      <td>0</td>\n",
       "    </tr>\n",
       "  </tbody>\n",
       "</table>\n",
       "<p>10 rows × 785 columns</p>\n",
       "</div>"
      ],
      "text/plain": [
       "   label  pixel0  pixel1  pixel2  pixel3  pixel4  pixel5  pixel6  pixel7  \\\n",
       "0      1       0       0       0       0       0       0       0       0   \n",
       "1      0       0       0       0       0       0       0       0       0   \n",
       "2      1       0       0       0       0       0       0       0       0   \n",
       "3      4       0       0       0       0       0       0       0       0   \n",
       "4      0       0       0       0       0       0       0       0       0   \n",
       "5      0       0       0       0       0       0       0       0       0   \n",
       "6      7       0       0       0       0       0       0       0       0   \n",
       "7      3       0       0       0       0       0       0       0       0   \n",
       "8      5       0       0       0       0       0       0       0       0   \n",
       "9      3       0       0       0       0       0       0       0       0   \n",
       "\n",
       "   pixel8  ...  pixel774  pixel775  pixel776  pixel777  pixel778  pixel779  \\\n",
       "0       0  ...         0         0         0         0         0         0   \n",
       "1       0  ...         0         0         0         0         0         0   \n",
       "2       0  ...         0         0         0         0         0         0   \n",
       "3       0  ...         0         0         0         0         0         0   \n",
       "4       0  ...         0         0         0         0         0         0   \n",
       "5       0  ...         0         0         0         0         0         0   \n",
       "6       0  ...         0         0         0         0         0         0   \n",
       "7       0  ...         0         0         0         0         0         0   \n",
       "8       0  ...         0         0         0         0         0         0   \n",
       "9       0  ...         0         0         0         0         0         0   \n",
       "\n",
       "   pixel780  pixel781  pixel782  pixel783  \n",
       "0         0         0         0         0  \n",
       "1         0         0         0         0  \n",
       "2         0         0         0         0  \n",
       "3         0         0         0         0  \n",
       "4         0         0         0         0  \n",
       "5         0         0         0         0  \n",
       "6         0         0         0         0  \n",
       "7         0         0         0         0  \n",
       "8         0         0         0         0  \n",
       "9         0         0         0         0  \n",
       "\n",
       "[10 rows x 785 columns]"
      ]
     },
     "execution_count": 3,
     "metadata": {},
     "output_type": "execute_result"
    }
   ],
   "source": [
    "df.head(10)"
   ]
  },
  {
   "cell_type": "code",
   "execution_count": 4,
   "id": "d5cac284",
   "metadata": {
    "execution": {
     "iopub.execute_input": "2025-06-21T17:24:27.797593Z",
     "iopub.status.busy": "2025-06-21T17:24:27.797318Z",
     "iopub.status.idle": "2025-06-21T17:24:27.802847Z",
     "shell.execute_reply": "2025-06-21T17:24:27.802056Z"
    },
    "papermill": {
     "duration": 0.011372,
     "end_time": "2025-06-21T17:24:27.804319",
     "exception": false,
     "start_time": "2025-06-21T17:24:27.792947",
     "status": "completed"
    },
    "tags": []
   },
   "outputs": [
    {
     "data": {
      "text/plain": [
       "(42000, 785)"
      ]
     },
     "execution_count": 4,
     "metadata": {},
     "output_type": "execute_result"
    }
   ],
   "source": [
    "df.shape"
   ]
  },
  {
   "cell_type": "code",
   "execution_count": 5,
   "id": "9f92f0e7",
   "metadata": {
    "execution": {
     "iopub.execute_input": "2025-06-21T17:24:27.812643Z",
     "iopub.status.busy": "2025-06-21T17:24:27.811826Z",
     "iopub.status.idle": "2025-06-21T17:24:27.934699Z",
     "shell.execute_reply": "2025-06-21T17:24:27.933808Z"
    },
    "papermill": {
     "duration": 0.128726,
     "end_time": "2025-06-21T17:24:27.936435",
     "exception": false,
     "start_time": "2025-06-21T17:24:27.807709",
     "status": "completed"
    },
    "tags": []
   },
   "outputs": [],
   "source": [
    "df = np.array(df)\n",
    "row, col = df.shape"
   ]
  },
  {
   "cell_type": "code",
   "execution_count": 6,
   "id": "d9eff301",
   "metadata": {
    "execution": {
     "iopub.execute_input": "2025-06-21T17:24:27.944223Z",
     "iopub.status.busy": "2025-06-21T17:24:27.943925Z",
     "iopub.status.idle": "2025-06-21T17:24:27.948549Z",
     "shell.execute_reply": "2025-06-21T17:24:27.947762Z"
    },
    "papermill": {
     "duration": 0.010112,
     "end_time": "2025-06-21T17:24:27.950035",
     "exception": false,
     "start_time": "2025-06-21T17:24:27.939923",
     "status": "completed"
    },
    "tags": []
   },
   "outputs": [],
   "source": [
    "#1000-42000 rows for training\n",
    "train_data = df[1000:row].T \n",
    "X_train = train_data[1:col]\n",
    "y_train = train_data[0]\n",
    "\n",
    "#first 1000 for test\n",
    "test_data = df[:1000].T\n",
    "X_test = test_data[1:col]\n",
    "y_test = test_data[0]"
   ]
  },
  {
   "cell_type": "code",
   "execution_count": 7,
   "id": "0b55fe13",
   "metadata": {
    "execution": {
     "iopub.execute_input": "2025-06-21T17:24:27.957668Z",
     "iopub.status.busy": "2025-06-21T17:24:27.957384Z",
     "iopub.status.idle": "2025-06-21T17:24:27.962988Z",
     "shell.execute_reply": "2025-06-21T17:24:27.962130Z"
    },
    "papermill": {
     "duration": 0.011183,
     "end_time": "2025-06-21T17:24:27.964484",
     "exception": false,
     "start_time": "2025-06-21T17:24:27.953301",
     "status": "completed"
    },
    "tags": []
   },
   "outputs": [
    {
     "data": {
      "text/plain": [
       "array([0, 0, 0, ..., 0, 0, 0])"
      ]
     },
     "execution_count": 7,
     "metadata": {},
     "output_type": "execute_result"
    }
   ],
   "source": [
    "X_train[0]"
   ]
  },
  {
   "cell_type": "code",
   "execution_count": 8,
   "id": "e729db90",
   "metadata": {
    "execution": {
     "iopub.execute_input": "2025-06-21T17:24:27.972469Z",
     "iopub.status.busy": "2025-06-21T17:24:27.972174Z",
     "iopub.status.idle": "2025-06-21T17:24:27.977731Z",
     "shell.execute_reply": "2025-06-21T17:24:27.976999Z"
    },
    "papermill": {
     "duration": 0.011201,
     "end_time": "2025-06-21T17:24:27.979277",
     "exception": false,
     "start_time": "2025-06-21T17:24:27.968076",
     "status": "completed"
    },
    "tags": []
   },
   "outputs": [
    {
     "data": {
      "text/plain": [
       "array([1, 5, 1, ..., 7, 6, 9])"
      ]
     },
     "execution_count": 8,
     "metadata": {},
     "output_type": "execute_result"
    }
   ],
   "source": [
    "y_train"
   ]
  },
  {
   "cell_type": "code",
   "execution_count": 9,
   "id": "debdd659",
   "metadata": {
    "execution": {
     "iopub.execute_input": "2025-06-21T17:24:27.987396Z",
     "iopub.status.busy": "2025-06-21T17:24:27.987108Z",
     "iopub.status.idle": "2025-06-21T17:24:27.991789Z",
     "shell.execute_reply": "2025-06-21T17:24:27.991127Z"
    },
    "papermill": {
     "duration": 0.010213,
     "end_time": "2025-06-21T17:24:27.993122",
     "exception": false,
     "start_time": "2025-06-21T17:24:27.982909",
     "status": "completed"
    },
    "tags": []
   },
   "outputs": [],
   "source": [
    "#we cant init params with jst 0\n",
    "#if they are all zeroz then they learn same...\n",
    "\n",
    "def init_params():\n",
    "    \n",
    "    np.random.seed(9)\n",
    "    \n",
    "    W1 = np.random.rand(64,784) * np.sqrt(1. / 784)\n",
    "    B1 = np.zeros((64,1))\n",
    "    \n",
    "    W2 = np.random.rand(10,64) * np.sqrt(1. / 784)\n",
    "    B2 = np.zeros((10,1))"
   ]
  },
  {
   "cell_type": "code",
   "execution_count": 10,
   "id": "590b2a52",
   "metadata": {
    "execution": {
     "iopub.execute_input": "2025-06-21T17:24:28.001428Z",
     "iopub.status.busy": "2025-06-21T17:24:28.001120Z",
     "iopub.status.idle": "2025-06-21T17:24:28.005484Z",
     "shell.execute_reply": "2025-06-21T17:24:28.004641Z"
    },
    "papermill": {
     "duration": 0.010038,
     "end_time": "2025-06-21T17:24:28.006821",
     "exception": false,
     "start_time": "2025-06-21T17:24:27.996783",
     "status": "completed"
    },
    "tags": []
   },
   "outputs": [],
   "source": [
    "def ReLU(Z):\n",
    "    return np.maximum(0,Z)\n",
    "\n",
    "def derivation_ReLU():\n",
    "    return Z>0"
   ]
  },
  {
   "cell_type": "code",
   "execution_count": 11,
   "id": "683014b0",
   "metadata": {
    "execution": {
     "iopub.execute_input": "2025-06-21T17:24:28.015098Z",
     "iopub.status.busy": "2025-06-21T17:24:28.014516Z",
     "iopub.status.idle": "2025-06-21T17:24:28.018397Z",
     "shell.execute_reply": "2025-06-21T17:24:28.017750Z"
    },
    "papermill": {
     "duration": 0.009337,
     "end_time": "2025-06-21T17:24:28.019701",
     "exception": false,
     "start_time": "2025-06-21T17:24:28.010364",
     "status": "completed"
    },
    "tags": []
   },
   "outputs": [],
   "source": [
    "def softmax(Z):\n",
    "    return (np.exp(Z) / sum(np.exp(Z)))"
   ]
  },
  {
   "cell_type": "code",
   "execution_count": 12,
   "id": "392bf4cd",
   "metadata": {
    "execution": {
     "iopub.execute_input": "2025-06-21T17:24:28.027740Z",
     "iopub.status.busy": "2025-06-21T17:24:28.027469Z",
     "iopub.status.idle": "2025-06-21T17:24:28.031819Z",
     "shell.execute_reply": "2025-06-21T17:24:28.031187Z"
    },
    "papermill": {
     "duration": 0.010036,
     "end_time": "2025-06-21T17:24:28.033237",
     "exception": false,
     "start_time": "2025-06-21T17:24:28.023201",
     "status": "completed"
    },
    "tags": []
   },
   "outputs": [],
   "source": [
    "#forward prop.\n",
    "\n",
    "def forward_prop(X,W1,B1,W2,B2):\n",
    "    Z1 = W1.dot(X) + B1\n",
    "    A1 = ReLU(Z1)\n",
    "    Z2 = W2.dot(A1) + B2\n",
    "    A2 = softmax(Z2)\n",
    "    return Z1,A1,Z2,A2"
   ]
  },
  {
   "cell_type": "code",
   "execution_count": 13,
   "id": "deec5f61",
   "metadata": {
    "execution": {
     "iopub.execute_input": "2025-06-21T17:24:28.041335Z",
     "iopub.status.busy": "2025-06-21T17:24:28.040750Z",
     "iopub.status.idle": "2025-06-21T17:24:28.045934Z",
     "shell.execute_reply": "2025-06-21T17:24:28.045238Z"
    },
    "papermill": {
     "duration": 0.010535,
     "end_time": "2025-06-21T17:24:28.047274",
     "exception": false,
     "start_time": "2025-06-21T17:24:28.036739",
     "status": "completed"
    },
    "tags": []
   },
   "outputs": [],
   "source": [
    "#back prop\n",
    "\n",
    "def back_prop(X, Y, Z1, Z2, A1, A2, W1, W2):\n",
    "\n",
    "    m = X.shape[1]\n",
    "    \n",
    "    dL_dZ2 = A2 - Y\n",
    "    dL_dW2 = 1/m * dL_dZ2.dot(A1.T)\n",
    "    dL_dB2 = 1/m * np.sum(dL_dZ2.T)\n",
    "    dL_dZ1 = (W2.T.dot(dL_dZ2)) * derivation_ReLU(Z1)\n",
    "    dL_dW1 = 1/m * dL_Z1.dot(X.T)\n",
    "    dL_dB1 = 1/m * np.sum(dl_dZ1)\n",
    "\n",
    "    return dl_dW1,dl_B1,dl_dW2,dl_dB2"
   ]
  },
  {
   "cell_type": "code",
   "execution_count": null,
   "id": "777a7caf",
   "metadata": {
    "papermill": {
     "duration": 0.003286,
     "end_time": "2025-06-21T17:24:28.054100",
     "exception": false,
     "start_time": "2025-06-21T17:24:28.050814",
     "status": "completed"
    },
    "tags": []
   },
   "outputs": [],
   "source": []
  }
 ],
 "metadata": {
  "kaggle": {
   "accelerator": "none",
   "dataSources": [
    {
     "databundleVersionId": 861823,
     "sourceId": 3004,
     "sourceType": "competition"
    }
   ],
   "dockerImageVersionId": 31040,
   "isGpuEnabled": false,
   "isInternetEnabled": true,
   "language": "python",
   "sourceType": "notebook"
  },
  "kernelspec": {
   "display_name": "Python 3",
   "language": "python",
   "name": "python3"
  },
  "language_info": {
   "codemirror_mode": {
    "name": "ipython",
    "version": 3
   },
   "file_extension": ".py",
   "mimetype": "text/x-python",
   "name": "python",
   "nbconvert_exporter": "python",
   "pygments_lexer": "ipython3",
   "version": "3.11.11"
  },
  "papermill": {
   "default_parameters": {},
   "duration": 10.488603,
   "end_time": "2025-06-21T17:24:28.576795",
   "environment_variables": {},
   "exception": null,
   "input_path": "__notebook__.ipynb",
   "output_path": "__notebook__.ipynb",
   "parameters": {},
   "start_time": "2025-06-21T17:24:18.088192",
   "version": "2.6.0"
  }
 },
 "nbformat": 4,
 "nbformat_minor": 5
}
