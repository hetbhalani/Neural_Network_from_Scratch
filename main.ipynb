{
 "cells": [
  {
   "cell_type": "code",
   "execution_count": 1,
   "id": "6b177239",
   "metadata": {
    "_cell_guid": "b1076dfc-b9ad-4769-8c92-a6c4dae69d19",
    "_uuid": "8f2839f25d086af736a60e9eeb907d3b93b6e0e5",
    "execution": {
     "iopub.execute_input": "2025-06-22T03:55:49.542105Z",
     "iopub.status.busy": "2025-06-22T03:55:49.541831Z",
     "iopub.status.idle": "2025-06-22T03:55:50.985450Z",
     "shell.execute_reply": "2025-06-22T03:55:50.984674Z"
    },
    "papermill": {
     "duration": 1.450456,
     "end_time": "2025-06-22T03:55:50.987544",
     "exception": false,
     "start_time": "2025-06-22T03:55:49.537088",
     "status": "completed"
    },
    "tags": []
   },
   "outputs": [],
   "source": [
    "import numpy as np\n",
    "import pandas as pd"
   ]
  },
  {
   "cell_type": "code",
   "execution_count": 2,
   "id": "21f5de73",
   "metadata": {
    "execution": {
     "iopub.execute_input": "2025-06-22T03:55:51.001154Z",
     "iopub.status.busy": "2025-06-22T03:55:51.000355Z",
     "iopub.status.idle": "2025-06-22T03:55:53.643712Z",
     "shell.execute_reply": "2025-06-22T03:55:53.642878Z"
    },
    "papermill": {
     "duration": 2.65092,
     "end_time": "2025-06-22T03:55:53.645179",
     "exception": false,
     "start_time": "2025-06-22T03:55:50.994259",
     "status": "completed"
    },
    "tags": []
   },
   "outputs": [],
   "source": [
    "df = pd.read_csv('/kaggle/input/digit-recognizer/train.csv')"
   ]
  },
  {
   "cell_type": "code",
   "execution_count": 3,
   "id": "c7a8d547",
   "metadata": {
    "execution": {
     "iopub.execute_input": "2025-06-22T03:55:53.652448Z",
     "iopub.status.busy": "2025-06-22T03:55:53.651858Z",
     "iopub.status.idle": "2025-06-22T03:55:53.674553Z",
     "shell.execute_reply": "2025-06-22T03:55:53.674009Z"
    },
    "papermill": {
     "duration": 0.027172,
     "end_time": "2025-06-22T03:55:53.675627",
     "exception": false,
     "start_time": "2025-06-22T03:55:53.648455",
     "status": "completed"
    },
    "tags": []
   },
   "outputs": [
    {
     "data": {
      "text/html": [
       "<div>\n",
       "<style scoped>\n",
       "    .dataframe tbody tr th:only-of-type {\n",
       "        vertical-align: middle;\n",
       "    }\n",
       "\n",
       "    .dataframe tbody tr th {\n",
       "        vertical-align: top;\n",
       "    }\n",
       "\n",
       "    .dataframe thead th {\n",
       "        text-align: right;\n",
       "    }\n",
       "</style>\n",
       "<table border=\"1\" class=\"dataframe\">\n",
       "  <thead>\n",
       "    <tr style=\"text-align: right;\">\n",
       "      <th></th>\n",
       "      <th>label</th>\n",
       "      <th>pixel0</th>\n",
       "      <th>pixel1</th>\n",
       "      <th>pixel2</th>\n",
       "      <th>pixel3</th>\n",
       "      <th>pixel4</th>\n",
       "      <th>pixel5</th>\n",
       "      <th>pixel6</th>\n",
       "      <th>pixel7</th>\n",
       "      <th>pixel8</th>\n",
       "      <th>...</th>\n",
       "      <th>pixel774</th>\n",
       "      <th>pixel775</th>\n",
       "      <th>pixel776</th>\n",
       "      <th>pixel777</th>\n",
       "      <th>pixel778</th>\n",
       "      <th>pixel779</th>\n",
       "      <th>pixel780</th>\n",
       "      <th>pixel781</th>\n",
       "      <th>pixel782</th>\n",
       "      <th>pixel783</th>\n",
       "    </tr>\n",
       "  </thead>\n",
       "  <tbody>\n",
       "    <tr>\n",
       "      <th>0</th>\n",
       "      <td>1</td>\n",
       "      <td>0</td>\n",
       "      <td>0</td>\n",
       "      <td>0</td>\n",
       "      <td>0</td>\n",
       "      <td>0</td>\n",
       "      <td>0</td>\n",
       "      <td>0</td>\n",
       "      <td>0</td>\n",
       "      <td>0</td>\n",
       "      <td>...</td>\n",
       "      <td>0</td>\n",
       "      <td>0</td>\n",
       "      <td>0</td>\n",
       "      <td>0</td>\n",
       "      <td>0</td>\n",
       "      <td>0</td>\n",
       "      <td>0</td>\n",
       "      <td>0</td>\n",
       "      <td>0</td>\n",
       "      <td>0</td>\n",
       "    </tr>\n",
       "    <tr>\n",
       "      <th>1</th>\n",
       "      <td>0</td>\n",
       "      <td>0</td>\n",
       "      <td>0</td>\n",
       "      <td>0</td>\n",
       "      <td>0</td>\n",
       "      <td>0</td>\n",
       "      <td>0</td>\n",
       "      <td>0</td>\n",
       "      <td>0</td>\n",
       "      <td>0</td>\n",
       "      <td>...</td>\n",
       "      <td>0</td>\n",
       "      <td>0</td>\n",
       "      <td>0</td>\n",
       "      <td>0</td>\n",
       "      <td>0</td>\n",
       "      <td>0</td>\n",
       "      <td>0</td>\n",
       "      <td>0</td>\n",
       "      <td>0</td>\n",
       "      <td>0</td>\n",
       "    </tr>\n",
       "    <tr>\n",
       "      <th>2</th>\n",
       "      <td>1</td>\n",
       "      <td>0</td>\n",
       "      <td>0</td>\n",
       "      <td>0</td>\n",
       "      <td>0</td>\n",
       "      <td>0</td>\n",
       "      <td>0</td>\n",
       "      <td>0</td>\n",
       "      <td>0</td>\n",
       "      <td>0</td>\n",
       "      <td>...</td>\n",
       "      <td>0</td>\n",
       "      <td>0</td>\n",
       "      <td>0</td>\n",
       "      <td>0</td>\n",
       "      <td>0</td>\n",
       "      <td>0</td>\n",
       "      <td>0</td>\n",
       "      <td>0</td>\n",
       "      <td>0</td>\n",
       "      <td>0</td>\n",
       "    </tr>\n",
       "    <tr>\n",
       "      <th>3</th>\n",
       "      <td>4</td>\n",
       "      <td>0</td>\n",
       "      <td>0</td>\n",
       "      <td>0</td>\n",
       "      <td>0</td>\n",
       "      <td>0</td>\n",
       "      <td>0</td>\n",
       "      <td>0</td>\n",
       "      <td>0</td>\n",
       "      <td>0</td>\n",
       "      <td>...</td>\n",
       "      <td>0</td>\n",
       "      <td>0</td>\n",
       "      <td>0</td>\n",
       "      <td>0</td>\n",
       "      <td>0</td>\n",
       "      <td>0</td>\n",
       "      <td>0</td>\n",
       "      <td>0</td>\n",
       "      <td>0</td>\n",
       "      <td>0</td>\n",
       "    </tr>\n",
       "    <tr>\n",
       "      <th>4</th>\n",
       "      <td>0</td>\n",
       "      <td>0</td>\n",
       "      <td>0</td>\n",
       "      <td>0</td>\n",
       "      <td>0</td>\n",
       "      <td>0</td>\n",
       "      <td>0</td>\n",
       "      <td>0</td>\n",
       "      <td>0</td>\n",
       "      <td>0</td>\n",
       "      <td>...</td>\n",
       "      <td>0</td>\n",
       "      <td>0</td>\n",
       "      <td>0</td>\n",
       "      <td>0</td>\n",
       "      <td>0</td>\n",
       "      <td>0</td>\n",
       "      <td>0</td>\n",
       "      <td>0</td>\n",
       "      <td>0</td>\n",
       "      <td>0</td>\n",
       "    </tr>\n",
       "    <tr>\n",
       "      <th>5</th>\n",
       "      <td>0</td>\n",
       "      <td>0</td>\n",
       "      <td>0</td>\n",
       "      <td>0</td>\n",
       "      <td>0</td>\n",
       "      <td>0</td>\n",
       "      <td>0</td>\n",
       "      <td>0</td>\n",
       "      <td>0</td>\n",
       "      <td>0</td>\n",
       "      <td>...</td>\n",
       "      <td>0</td>\n",
       "      <td>0</td>\n",
       "      <td>0</td>\n",
       "      <td>0</td>\n",
       "      <td>0</td>\n",
       "      <td>0</td>\n",
       "      <td>0</td>\n",
       "      <td>0</td>\n",
       "      <td>0</td>\n",
       "      <td>0</td>\n",
       "    </tr>\n",
       "    <tr>\n",
       "      <th>6</th>\n",
       "      <td>7</td>\n",
       "      <td>0</td>\n",
       "      <td>0</td>\n",
       "      <td>0</td>\n",
       "      <td>0</td>\n",
       "      <td>0</td>\n",
       "      <td>0</td>\n",
       "      <td>0</td>\n",
       "      <td>0</td>\n",
       "      <td>0</td>\n",
       "      <td>...</td>\n",
       "      <td>0</td>\n",
       "      <td>0</td>\n",
       "      <td>0</td>\n",
       "      <td>0</td>\n",
       "      <td>0</td>\n",
       "      <td>0</td>\n",
       "      <td>0</td>\n",
       "      <td>0</td>\n",
       "      <td>0</td>\n",
       "      <td>0</td>\n",
       "    </tr>\n",
       "    <tr>\n",
       "      <th>7</th>\n",
       "      <td>3</td>\n",
       "      <td>0</td>\n",
       "      <td>0</td>\n",
       "      <td>0</td>\n",
       "      <td>0</td>\n",
       "      <td>0</td>\n",
       "      <td>0</td>\n",
       "      <td>0</td>\n",
       "      <td>0</td>\n",
       "      <td>0</td>\n",
       "      <td>...</td>\n",
       "      <td>0</td>\n",
       "      <td>0</td>\n",
       "      <td>0</td>\n",
       "      <td>0</td>\n",
       "      <td>0</td>\n",
       "      <td>0</td>\n",
       "      <td>0</td>\n",
       "      <td>0</td>\n",
       "      <td>0</td>\n",
       "      <td>0</td>\n",
       "    </tr>\n",
       "    <tr>\n",
       "      <th>8</th>\n",
       "      <td>5</td>\n",
       "      <td>0</td>\n",
       "      <td>0</td>\n",
       "      <td>0</td>\n",
       "      <td>0</td>\n",
       "      <td>0</td>\n",
       "      <td>0</td>\n",
       "      <td>0</td>\n",
       "      <td>0</td>\n",
       "      <td>0</td>\n",
       "      <td>...</td>\n",
       "      <td>0</td>\n",
       "      <td>0</td>\n",
       "      <td>0</td>\n",
       "      <td>0</td>\n",
       "      <td>0</td>\n",
       "      <td>0</td>\n",
       "      <td>0</td>\n",
       "      <td>0</td>\n",
       "      <td>0</td>\n",
       "      <td>0</td>\n",
       "    </tr>\n",
       "    <tr>\n",
       "      <th>9</th>\n",
       "      <td>3</td>\n",
       "      <td>0</td>\n",
       "      <td>0</td>\n",
       "      <td>0</td>\n",
       "      <td>0</td>\n",
       "      <td>0</td>\n",
       "      <td>0</td>\n",
       "      <td>0</td>\n",
       "      <td>0</td>\n",
       "      <td>0</td>\n",
       "      <td>...</td>\n",
       "      <td>0</td>\n",
       "      <td>0</td>\n",
       "      <td>0</td>\n",
       "      <td>0</td>\n",
       "      <td>0</td>\n",
       "      <td>0</td>\n",
       "      <td>0</td>\n",
       "      <td>0</td>\n",
       "      <td>0</td>\n",
       "      <td>0</td>\n",
       "    </tr>\n",
       "  </tbody>\n",
       "</table>\n",
       "<p>10 rows × 785 columns</p>\n",
       "</div>"
      ],
      "text/plain": [
       "   label  pixel0  pixel1  pixel2  pixel3  pixel4  pixel5  pixel6  pixel7  \\\n",
       "0      1       0       0       0       0       0       0       0       0   \n",
       "1      0       0       0       0       0       0       0       0       0   \n",
       "2      1       0       0       0       0       0       0       0       0   \n",
       "3      4       0       0       0       0       0       0       0       0   \n",
       "4      0       0       0       0       0       0       0       0       0   \n",
       "5      0       0       0       0       0       0       0       0       0   \n",
       "6      7       0       0       0       0       0       0       0       0   \n",
       "7      3       0       0       0       0       0       0       0       0   \n",
       "8      5       0       0       0       0       0       0       0       0   \n",
       "9      3       0       0       0       0       0       0       0       0   \n",
       "\n",
       "   pixel8  ...  pixel774  pixel775  pixel776  pixel777  pixel778  pixel779  \\\n",
       "0       0  ...         0         0         0         0         0         0   \n",
       "1       0  ...         0         0         0         0         0         0   \n",
       "2       0  ...         0         0         0         0         0         0   \n",
       "3       0  ...         0         0         0         0         0         0   \n",
       "4       0  ...         0         0         0         0         0         0   \n",
       "5       0  ...         0         0         0         0         0         0   \n",
       "6       0  ...         0         0         0         0         0         0   \n",
       "7       0  ...         0         0         0         0         0         0   \n",
       "8       0  ...         0         0         0         0         0         0   \n",
       "9       0  ...         0         0         0         0         0         0   \n",
       "\n",
       "   pixel780  pixel781  pixel782  pixel783  \n",
       "0         0         0         0         0  \n",
       "1         0         0         0         0  \n",
       "2         0         0         0         0  \n",
       "3         0         0         0         0  \n",
       "4         0         0         0         0  \n",
       "5         0         0         0         0  \n",
       "6         0         0         0         0  \n",
       "7         0         0         0         0  \n",
       "8         0         0         0         0  \n",
       "9         0         0         0         0  \n",
       "\n",
       "[10 rows x 785 columns]"
      ]
     },
     "execution_count": 3,
     "metadata": {},
     "output_type": "execute_result"
    }
   ],
   "source": [
    "df.head(10)"
   ]
  },
  {
   "cell_type": "code",
   "execution_count": 4,
   "id": "0ecce75a",
   "metadata": {
    "execution": {
     "iopub.execute_input": "2025-06-22T03:55:53.683210Z",
     "iopub.status.busy": "2025-06-22T03:55:53.682769Z",
     "iopub.status.idle": "2025-06-22T03:55:53.686587Z",
     "shell.execute_reply": "2025-06-22T03:55:53.686099Z"
    },
    "papermill": {
     "duration": 0.008656,
     "end_time": "2025-06-22T03:55:53.687574",
     "exception": false,
     "start_time": "2025-06-22T03:55:53.678918",
     "status": "completed"
    },
    "tags": []
   },
   "outputs": [
    {
     "data": {
      "text/plain": [
       "(42000, 785)"
      ]
     },
     "execution_count": 4,
     "metadata": {},
     "output_type": "execute_result"
    }
   ],
   "source": [
    "df.shape"
   ]
  },
  {
   "cell_type": "code",
   "execution_count": 5,
   "id": "5500ed48",
   "metadata": {
    "execution": {
     "iopub.execute_input": "2025-06-22T03:55:53.694632Z",
     "iopub.status.busy": "2025-06-22T03:55:53.694457Z",
     "iopub.status.idle": "2025-06-22T03:55:53.697423Z",
     "shell.execute_reply": "2025-06-22T03:55:53.696911Z"
    },
    "papermill": {
     "duration": 0.007642,
     "end_time": "2025-06-22T03:55:53.698438",
     "exception": false,
     "start_time": "2025-06-22T03:55:53.690796",
     "status": "completed"
    },
    "tags": []
   },
   "outputs": [],
   "source": [
    "row, col = df.shape"
   ]
  },
  {
   "cell_type": "code",
   "execution_count": 6,
   "id": "7d11c2a2",
   "metadata": {
    "execution": {
     "iopub.execute_input": "2025-06-22T03:55:53.706051Z",
     "iopub.status.busy": "2025-06-22T03:55:53.705816Z",
     "iopub.status.idle": "2025-06-22T03:55:53.797269Z",
     "shell.execute_reply": "2025-06-22T03:55:53.796656Z"
    },
    "papermill": {
     "duration": 0.096933,
     "end_time": "2025-06-22T03:55:53.798624",
     "exception": false,
     "start_time": "2025-06-22T03:55:53.701691",
     "status": "completed"
    },
    "tags": []
   },
   "outputs": [],
   "source": [
    "df = np.array(df)\n",
    "# convert our dataset into numpy array"
   ]
  },
  {
   "cell_type": "code",
   "execution_count": 7,
   "id": "80a2242a",
   "metadata": {
    "execution": {
     "iopub.execute_input": "2025-06-22T03:55:53.806416Z",
     "iopub.status.busy": "2025-06-22T03:55:53.805931Z",
     "iopub.status.idle": "2025-06-22T03:55:53.809537Z",
     "shell.execute_reply": "2025-06-22T03:55:53.809043Z"
    },
    "papermill": {
     "duration": 0.008394,
     "end_time": "2025-06-22T03:55:53.810528",
     "exception": false,
     "start_time": "2025-06-22T03:55:53.802134",
     "status": "completed"
    },
    "tags": []
   },
   "outputs": [],
   "source": [
    "#2000-42000 rows for training\n",
    "train_data = df[2000:row].T \n",
    "X_train = train_data[1:col]\n",
    "y_train = train_data[0]\n",
    "\n",
    "#first 1000 for test\n",
    "test_data = df[:2000].T\n",
    "X_test = test_data[1:col]\n",
    "y_test = test_data[0]"
   ]
  },
  {
   "cell_type": "code",
   "execution_count": 8,
   "id": "2fd733bc",
   "metadata": {
    "execution": {
     "iopub.execute_input": "2025-06-22T03:55:53.817665Z",
     "iopub.status.busy": "2025-06-22T03:55:53.817239Z",
     "iopub.status.idle": "2025-06-22T03:55:53.821486Z",
     "shell.execute_reply": "2025-06-22T03:55:53.820812Z"
    },
    "papermill": {
     "duration": 0.008884,
     "end_time": "2025-06-22T03:55:53.822595",
     "exception": false,
     "start_time": "2025-06-22T03:55:53.813711",
     "status": "completed"
    },
    "tags": []
   },
   "outputs": [
    {
     "data": {
      "text/plain": [
       "(784, 40000)"
      ]
     },
     "execution_count": 8,
     "metadata": {},
     "output_type": "execute_result"
    }
   ],
   "source": [
    "X_train.shape"
   ]
  },
  {
   "cell_type": "code",
   "execution_count": 9,
   "id": "bd845e69",
   "metadata": {
    "execution": {
     "iopub.execute_input": "2025-06-22T03:55:53.829646Z",
     "iopub.status.busy": "2025-06-22T03:55:53.829430Z",
     "iopub.status.idle": "2025-06-22T03:55:53.833904Z",
     "shell.execute_reply": "2025-06-22T03:55:53.833205Z"
    },
    "papermill": {
     "duration": 0.009221,
     "end_time": "2025-06-22T03:55:53.835079",
     "exception": false,
     "start_time": "2025-06-22T03:55:53.825858",
     "status": "completed"
    },
    "tags": []
   },
   "outputs": [
    {
     "data": {
      "text/plain": [
       "array([0, 0, 0, ..., 0, 0, 0])"
      ]
     },
     "execution_count": 9,
     "metadata": {},
     "output_type": "execute_result"
    }
   ],
   "source": [
    "X_train[0]"
   ]
  },
  {
   "cell_type": "code",
   "execution_count": 10,
   "id": "69a2f7c0",
   "metadata": {
    "execution": {
     "iopub.execute_input": "2025-06-22T03:55:53.842997Z",
     "iopub.status.busy": "2025-06-22T03:55:53.842602Z",
     "iopub.status.idle": "2025-06-22T03:55:53.847055Z",
     "shell.execute_reply": "2025-06-22T03:55:53.846336Z"
    },
    "papermill": {
     "duration": 0.010028,
     "end_time": "2025-06-22T03:55:53.848512",
     "exception": false,
     "start_time": "2025-06-22T03:55:53.838484",
     "status": "completed"
    },
    "tags": []
   },
   "outputs": [
    {
     "data": {
      "text/plain": [
       "array([3, 1, 6, ..., 7, 6, 9])"
      ]
     },
     "execution_count": 10,
     "metadata": {},
     "output_type": "execute_result"
    }
   ],
   "source": [
    "y_train"
   ]
  },
  {
   "cell_type": "code",
   "execution_count": 11,
   "id": "78d1e0eb",
   "metadata": {
    "execution": {
     "iopub.execute_input": "2025-06-22T03:55:53.856452Z",
     "iopub.status.busy": "2025-06-22T03:55:53.855765Z",
     "iopub.status.idle": "2025-06-22T03:55:53.859628Z",
     "shell.execute_reply": "2025-06-22T03:55:53.859161Z"
    },
    "papermill": {
     "duration": 0.008662,
     "end_time": "2025-06-22T03:55:53.860638",
     "exception": false,
     "start_time": "2025-06-22T03:55:53.851976",
     "status": "completed"
    },
    "tags": []
   },
   "outputs": [],
   "source": [
    "#activation functions \n",
    "\n",
    "def ReLU(Z):\n",
    "    return np.maximum(0,Z)\n",
    "\n",
    "def derivation_ReLU(Z):\n",
    "    return Z>0\n",
    "    \n",
    "def softmax(Z):\n",
    "    expZ = np.exp(Z - np.max(Z, axis=0))\n",
    "    return expZ / np.sum(expZ, axis=0, keepdims=True)"
   ]
  },
  {
   "cell_type": "code",
   "execution_count": 12,
   "id": "1922c224",
   "metadata": {
    "execution": {
     "iopub.execute_input": "2025-06-22T03:55:53.867892Z",
     "iopub.status.busy": "2025-06-22T03:55:53.867705Z",
     "iopub.status.idle": "2025-06-22T03:55:53.871022Z",
     "shell.execute_reply": "2025-06-22T03:55:53.870530Z"
    },
    "papermill": {
     "duration": 0.008026,
     "end_time": "2025-06-22T03:55:53.872029",
     "exception": false,
     "start_time": "2025-06-22T03:55:53.864003",
     "status": "completed"
    },
    "tags": []
   },
   "outputs": [],
   "source": [
    "#forward prop.\n",
    "\n",
    "def forward_prop(X,W1,B1,W2,B2):\n",
    "    Z1 = W1.dot(X) + B1\n",
    "    A1 = ReLU(Z1)\n",
    "    Z2 = W2.dot(A1) + B2\n",
    "    A2 = softmax(Z2)\n",
    "    return Z1,A1,Z2,A2"
   ]
  },
  {
   "cell_type": "code",
   "execution_count": 13,
   "id": "b01d1407",
   "metadata": {
    "execution": {
     "iopub.execute_input": "2025-06-22T03:55:53.879189Z",
     "iopub.status.busy": "2025-06-22T03:55:53.878989Z",
     "iopub.status.idle": "2025-06-22T03:55:53.882149Z",
     "shell.execute_reply": "2025-06-22T03:55:53.881528Z"
    },
    "papermill": {
     "duration": 0.007889,
     "end_time": "2025-06-22T03:55:53.883179",
     "exception": false,
     "start_time": "2025-06-22T03:55:53.875290",
     "status": "completed"
    },
    "tags": []
   },
   "outputs": [],
   "source": [
    "#one hot encoding\n",
    "\n",
    "def one_hot(Y):\n",
    "    return np.eye(Y.max() + 1)[Y]\n"
   ]
  },
  {
   "cell_type": "code",
   "execution_count": 14,
   "id": "bb5745ce",
   "metadata": {
    "execution": {
     "iopub.execute_input": "2025-06-22T03:55:53.890243Z",
     "iopub.status.busy": "2025-06-22T03:55:53.890049Z",
     "iopub.status.idle": "2025-06-22T03:55:53.893969Z",
     "shell.execute_reply": "2025-06-22T03:55:53.893489Z"
    },
    "papermill": {
     "duration": 0.008579,
     "end_time": "2025-06-22T03:55:53.894983",
     "exception": false,
     "start_time": "2025-06-22T03:55:53.886404",
     "status": "completed"
    },
    "tags": []
   },
   "outputs": [],
   "source": [
    "#back prop\n",
    "\n",
    "def back_prop(X, Y, Z1, Z2, A1, A2, W1, W2):\n",
    "\n",
    "    m = X.shape[1]\n",
    "\n",
    "    Y = one_hot(Y).T\n",
    "    dL_dZ2 = A2 - Y\n",
    "    dL_dW2 = 1/m * dL_dZ2.dot(A1.T)\n",
    "    dL_dB2 = 1/m * np.sum(dL_dZ2, axis=1, keepdims=True)\n",
    "    dL_dZ1 = (W2.T.dot(dL_dZ2)) * derivation_ReLU(Z1)\n",
    "    dL_dW1 = 1/m * dL_dZ1.dot(X.T)\n",
    "    dL_dB1 = 1/m * np.sum(dL_dZ1, axis=1, keepdims=True)\n",
    "\n",
    "    return dL_dW1,dL_dB1,dL_dW2,dL_dB2"
   ]
  },
  {
   "cell_type": "code",
   "execution_count": 15,
   "id": "58c9241e",
   "metadata": {
    "execution": {
     "iopub.execute_input": "2025-06-22T03:55:53.903048Z",
     "iopub.status.busy": "2025-06-22T03:55:53.902846Z",
     "iopub.status.idle": "2025-06-22T03:55:53.906622Z",
     "shell.execute_reply": "2025-06-22T03:55:53.905999Z"
    },
    "papermill": {
     "duration": 0.008976,
     "end_time": "2025-06-22T03:55:53.907696",
     "exception": false,
     "start_time": "2025-06-22T03:55:53.898720",
     "status": "completed"
    },
    "tags": []
   },
   "outputs": [],
   "source": [
    "#we cant init params with jst 0\n",
    "#if they are all zeroz then they learn same...\n",
    "\n",
    "def initilize_params():\n",
    "    \n",
    "    np.random.seed(9)\n",
    "    \n",
    "    W1 = np.random.randn(64, 784) * np.sqrt(1. / 784)\n",
    "    B1 = np.zeros((64, 1))\n",
    "    \n",
    "    W2 = np.random.randn(10, 64) * np.sqrt(1. / 64)\n",
    "    B2 = np.zeros((10, 1))\n",
    "    \n",
    "    return W1, B1, W2, B2"
   ]
  },
  {
   "cell_type": "code",
   "execution_count": 16,
   "id": "78b0013f",
   "metadata": {
    "execution": {
     "iopub.execute_input": "2025-06-22T03:55:53.914691Z",
     "iopub.status.busy": "2025-06-22T03:55:53.914509Z",
     "iopub.status.idle": "2025-06-22T03:55:53.917784Z",
     "shell.execute_reply": "2025-06-22T03:55:53.917316Z"
    },
    "papermill": {
     "duration": 0.007882,
     "end_time": "2025-06-22T03:55:53.918778",
     "exception": false,
     "start_time": "2025-06-22T03:55:53.910896",
     "status": "completed"
    },
    "tags": []
   },
   "outputs": [],
   "source": [
    "#Update params\n",
    "\n",
    "def update(W1, B1, W2, B2, dL_dW1, dL_dB1, dL_dW2, dL_dB2, alpha):\n",
    "    W1 = W1 - alpha * dL_dW1 #alpha = learning rate\n",
    "    B1 = B1 - alpha * dL_dB1\n",
    "\n",
    "    W2 = W2 - alpha * dL_dW2\n",
    "    B2 = B2 - alpha * dL_dB2\n",
    "\n",
    "    return W1, B1, W2, B2 "
   ]
  },
  {
   "cell_type": "code",
   "execution_count": 17,
   "id": "f3127dba",
   "metadata": {
    "execution": {
     "iopub.execute_input": "2025-06-22T03:55:53.926034Z",
     "iopub.status.busy": "2025-06-22T03:55:53.925834Z",
     "iopub.status.idle": "2025-06-22T03:55:53.930770Z",
     "shell.execute_reply": "2025-06-22T03:55:53.930281Z"
    },
    "papermill": {
     "duration": 0.009674,
     "end_time": "2025-06-22T03:55:53.931755",
     "exception": false,
     "start_time": "2025-06-22T03:55:53.922081",
     "status": "completed"
    },
    "tags": []
   },
   "outputs": [],
   "source": [
    "#TRAINING...\n",
    "\n",
    "#this will return max possibility for every digit\n",
    "def preds(A2):\n",
    "    return np.argmax(A2,0)\n",
    "\n",
    "def acc(Y, preds):\n",
    "    # print(Y)\n",
    "    return np.sum(Y == preds)/ Y.size\n",
    "\n",
    "def gradient_descent(X, Y, alpha, itrs):\n",
    "    W1, B1, W2, B2 = initilize_params()\n",
    "\n",
    "    for i in range(itrs):\n",
    "        Z1,A1,Z2,A2 = forward_prop(X,W1,B1,W2,B2)\n",
    "        dL_dW1, dL_dB1, dL_dW2, dL_dB2 = back_prop(X, Y, Z1, Z2, A1, A2, W1, W2)\n",
    "        W1, B1, W2, B2 = update(W1, B1, W2, B2, dL_dW1, dL_dB1, dL_dW2, dL_dB2, alpha)\n",
    "\n",
    "        if i % 10 == 0:\n",
    "            print(f'Iteration: {i}')\n",
    "            pred = preds(A2)\n",
    "            accuracy = acc(Y, pred)\n",
    "            print((Y,pred))\n",
    "            print(f'accuracy: {accuracy}')\n",
    "            print()\n",
    "            \n",
    "    return W1, B1,W2,B2"
   ]
  },
  {
   "cell_type": "code",
   "execution_count": 18,
   "id": "d8e4ae33",
   "metadata": {
    "execution": {
     "iopub.execute_input": "2025-06-22T03:55:53.938892Z",
     "iopub.status.busy": "2025-06-22T03:55:53.938707Z",
     "iopub.status.idle": "2025-06-22T03:58:20.780882Z",
     "shell.execute_reply": "2025-06-22T03:58:20.780134Z"
    },
    "papermill": {
     "duration": 146.847276,
     "end_time": "2025-06-22T03:58:20.782321",
     "exception": false,
     "start_time": "2025-06-22T03:55:53.935045",
     "status": "completed"
    },
    "tags": []
   },
   "outputs": [
    {
     "name": "stdout",
     "output_type": "stream",
     "text": [
      "Iteration: 0\n",
      "(array([3, 1, 6, ..., 7, 6, 9]), array([2, 2, 2, ..., 1, 1, 1]))\n",
      "accuracy: 0.0804\n",
      "\n",
      "Iteration: 10\n",
      "(array([3, 1, 6, ..., 7, 6, 9]), array([8, 1, 2, ..., 7, 6, 9]))\n",
      "accuracy: 0.49815\n",
      "\n",
      "Iteration: 20\n",
      "(array([3, 1, 6, ..., 7, 6, 9]), array([6, 1, 0, ..., 7, 6, 9]))\n",
      "accuracy: 0.5146\n",
      "\n",
      "Iteration: 30\n",
      "(array([3, 1, 6, ..., 7, 6, 9]), array([6, 1, 0, ..., 7, 6, 9]))\n",
      "accuracy: 0.529925\n",
      "\n",
      "Iteration: 40\n",
      "(array([3, 1, 6, ..., 7, 6, 9]), array([9, 1, 0, ..., 7, 6, 9]))\n",
      "accuracy: 0.557225\n",
      "\n",
      "Iteration: 50\n",
      "(array([3, 1, 6, ..., 7, 6, 9]), array([9, 1, 2, ..., 7, 6, 9]))\n",
      "accuracy: 0.580025\n",
      "\n",
      "Iteration: 60\n",
      "(array([3, 1, 6, ..., 7, 6, 9]), array([9, 1, 2, ..., 7, 6, 9]))\n",
      "accuracy: 0.6011\n",
      "\n",
      "Iteration: 70\n",
      "(array([3, 1, 6, ..., 7, 6, 9]), array([9, 1, 2, ..., 7, 6, 9]))\n",
      "accuracy: 0.6183\n",
      "\n",
      "Iteration: 80\n",
      "(array([3, 1, 6, ..., 7, 6, 9]), array([9, 1, 2, ..., 7, 6, 9]))\n",
      "accuracy: 0.63895\n",
      "\n",
      "Iteration: 90\n",
      "(array([3, 1, 6, ..., 7, 6, 9]), array([9, 1, 2, ..., 7, 6, 9]))\n",
      "accuracy: 0.654075\n",
      "\n",
      "Iteration: 100\n",
      "(array([3, 1, 6, ..., 7, 6, 9]), array([9, 1, 2, ..., 7, 6, 9]))\n",
      "accuracy: 0.667225\n",
      "\n",
      "Iteration: 110\n",
      "(array([3, 1, 6, ..., 7, 6, 9]), array([8, 1, 2, ..., 7, 6, 8]))\n",
      "accuracy: 0.690725\n",
      "\n",
      "Iteration: 120\n",
      "(array([3, 1, 6, ..., 7, 6, 9]), array([8, 1, 2, ..., 7, 6, 8]))\n",
      "accuracy: 0.69975\n",
      "\n",
      "Iteration: 130\n",
      "(array([3, 1, 6, ..., 7, 6, 9]), array([8, 1, 2, ..., 7, 6, 8]))\n",
      "accuracy: 0.709775\n",
      "\n",
      "Iteration: 140\n",
      "(array([3, 1, 6, ..., 7, 6, 9]), array([3, 1, 2, ..., 7, 6, 8]))\n",
      "accuracy: 0.718225\n",
      "\n",
      "Iteration: 150\n",
      "(array([3, 1, 6, ..., 7, 6, 9]), array([3, 1, 2, ..., 7, 6, 8]))\n",
      "accuracy: 0.72605\n",
      "\n",
      "Iteration: 160\n",
      "(array([3, 1, 6, ..., 7, 6, 9]), array([3, 1, 2, ..., 7, 6, 8]))\n",
      "accuracy: 0.7335\n",
      "\n",
      "Iteration: 170\n",
      "(array([3, 1, 6, ..., 7, 6, 9]), array([3, 1, 2, ..., 7, 6, 8]))\n",
      "accuracy: 0.740425\n",
      "\n",
      "Iteration: 180\n",
      "(array([3, 1, 6, ..., 7, 6, 9]), array([3, 1, 2, ..., 7, 6, 8]))\n",
      "accuracy: 0.746825\n",
      "\n",
      "Iteration: 190\n",
      "(array([3, 1, 6, ..., 7, 6, 9]), array([3, 1, 2, ..., 7, 6, 8]))\n",
      "accuracy: 0.751925\n",
      "\n",
      "Iteration: 200\n",
      "(array([3, 1, 6, ..., 7, 6, 9]), array([3, 1, 2, ..., 7, 6, 8]))\n",
      "accuracy: 0.756725\n",
      "\n",
      "Iteration: 210\n",
      "(array([3, 1, 6, ..., 7, 6, 9]), array([3, 1, 2, ..., 7, 6, 8]))\n",
      "accuracy: 0.762825\n",
      "\n",
      "Iteration: 220\n",
      "(array([3, 1, 6, ..., 7, 6, 9]), array([3, 1, 2, ..., 7, 6, 8]))\n",
      "accuracy: 0.76735\n",
      "\n",
      "Iteration: 230\n",
      "(array([3, 1, 6, ..., 7, 6, 9]), array([3, 1, 6, ..., 7, 6, 9]))\n",
      "accuracy: 0.7721\n",
      "\n",
      "Iteration: 240\n",
      "(array([3, 1, 6, ..., 7, 6, 9]), array([3, 1, 6, ..., 7, 6, 9]))\n",
      "accuracy: 0.776725\n",
      "\n",
      "Iteration: 250\n",
      "(array([3, 1, 6, ..., 7, 6, 9]), array([3, 1, 6, ..., 7, 6, 9]))\n",
      "accuracy: 0.78075\n",
      "\n",
      "Iteration: 260\n",
      "(array([3, 1, 6, ..., 7, 6, 9]), array([3, 1, 6, ..., 7, 6, 9]))\n",
      "accuracy: 0.7843\n",
      "\n",
      "Iteration: 270\n",
      "(array([3, 1, 6, ..., 7, 6, 9]), array([3, 1, 6, ..., 7, 6, 9]))\n",
      "accuracy: 0.7879\n",
      "\n",
      "Iteration: 280\n",
      "(array([3, 1, 6, ..., 7, 6, 9]), array([3, 1, 6, ..., 7, 6, 9]))\n",
      "accuracy: 0.791425\n",
      "\n",
      "Iteration: 290\n",
      "(array([3, 1, 6, ..., 7, 6, 9]), array([3, 1, 6, ..., 7, 6, 9]))\n",
      "accuracy: 0.793925\n",
      "\n",
      "Iteration: 300\n",
      "(array([3, 1, 6, ..., 7, 6, 9]), array([3, 1, 6, ..., 7, 6, 9]))\n",
      "accuracy: 0.796825\n",
      "\n",
      "Iteration: 310\n",
      "(array([3, 1, 6, ..., 7, 6, 9]), array([3, 1, 6, ..., 7, 6, 9]))\n",
      "accuracy: 0.79945\n",
      "\n",
      "Iteration: 320\n",
      "(array([3, 1, 6, ..., 7, 6, 9]), array([3, 1, 6, ..., 7, 6, 9]))\n",
      "accuracy: 0.8022\n",
      "\n",
      "Iteration: 330\n",
      "(array([3, 1, 6, ..., 7, 6, 9]), array([3, 1, 6, ..., 7, 6, 9]))\n",
      "accuracy: 0.8047\n",
      "\n",
      "Iteration: 340\n",
      "(array([3, 1, 6, ..., 7, 6, 9]), array([3, 1, 6, ..., 7, 6, 9]))\n",
      "accuracy: 0.807975\n",
      "\n",
      "Iteration: 350\n",
      "(array([3, 1, 6, ..., 7, 6, 9]), array([3, 8, 6, ..., 7, 6, 9]))\n",
      "accuracy: 0.8104\n",
      "\n",
      "Iteration: 360\n",
      "(array([3, 1, 6, ..., 7, 6, 9]), array([3, 8, 6, ..., 7, 6, 9]))\n",
      "accuracy: 0.8127\n",
      "\n",
      "Iteration: 370\n",
      "(array([3, 1, 6, ..., 7, 6, 9]), array([3, 8, 6, ..., 7, 6, 9]))\n",
      "accuracy: 0.814575\n",
      "\n",
      "Iteration: 380\n",
      "(array([3, 1, 6, ..., 7, 6, 9]), array([3, 8, 6, ..., 7, 6, 9]))\n",
      "accuracy: 0.8174\n",
      "\n",
      "Iteration: 390\n",
      "(array([3, 1, 6, ..., 7, 6, 9]), array([3, 8, 6, ..., 7, 6, 9]))\n",
      "accuracy: 0.8198\n",
      "\n",
      "Iteration: 400\n",
      "(array([3, 1, 6, ..., 7, 6, 9]), array([3, 8, 6, ..., 7, 6, 9]))\n",
      "accuracy: 0.8221\n",
      "\n",
      "Iteration: 410\n",
      "(array([3, 1, 6, ..., 7, 6, 9]), array([3, 8, 6, ..., 7, 6, 9]))\n",
      "accuracy: 0.824275\n",
      "\n",
      "Iteration: 420\n",
      "(array([3, 1, 6, ..., 7, 6, 9]), array([3, 8, 6, ..., 7, 6, 9]))\n",
      "accuracy: 0.82635\n",
      "\n",
      "Iteration: 430\n",
      "(array([3, 1, 6, ..., 7, 6, 9]), array([3, 8, 6, ..., 7, 6, 9]))\n",
      "accuracy: 0.82835\n",
      "\n",
      "Iteration: 440\n",
      "(array([3, 1, 6, ..., 7, 6, 9]), array([3, 8, 6, ..., 7, 6, 9]))\n",
      "accuracy: 0.8303\n",
      "\n",
      "Iteration: 450\n",
      "(array([3, 1, 6, ..., 7, 6, 9]), array([3, 8, 6, ..., 7, 6, 9]))\n",
      "accuracy: 0.8322\n",
      "\n",
      "Iteration: 460\n",
      "(array([3, 1, 6, ..., 7, 6, 9]), array([3, 8, 6, ..., 7, 6, 9]))\n",
      "accuracy: 0.833725\n",
      "\n",
      "Iteration: 470\n",
      "(array([3, 1, 6, ..., 7, 6, 9]), array([3, 8, 6, ..., 7, 6, 9]))\n",
      "accuracy: 0.835375\n",
      "\n",
      "Iteration: 480\n",
      "(array([3, 1, 6, ..., 7, 6, 9]), array([3, 8, 6, ..., 7, 6, 9]))\n",
      "accuracy: 0.836675\n",
      "\n",
      "Iteration: 490\n",
      "(array([3, 1, 6, ..., 7, 6, 9]), array([3, 8, 6, ..., 7, 6, 9]))\n",
      "accuracy: 0.838175\n",
      "\n"
     ]
    }
   ],
   "source": [
    "W1, B1, W2, B2 = gradient_descent(X_train, y_train, 0.001, 500)"
   ]
  },
  {
   "cell_type": "markdown",
   "id": "8ca90818",
   "metadata": {
    "papermill": {
     "duration": 0.005058,
     "end_time": "2025-06-22T03:58:20.793067",
     "exception": false,
     "start_time": "2025-06-22T03:58:20.788009",
     "status": "completed"
    },
    "tags": []
   },
   "source": [
    "we got 83% Accuracy...."
   ]
  },
  {
   "cell_type": "code",
   "execution_count": 19,
   "id": "37bd142c",
   "metadata": {
    "execution": {
     "iopub.execute_input": "2025-06-22T03:58:20.804347Z",
     "iopub.status.busy": "2025-06-22T03:58:20.804131Z",
     "iopub.status.idle": "2025-06-22T03:58:20.807003Z",
     "shell.execute_reply": "2025-06-22T03:58:20.806488Z"
    },
    "papermill": {
     "duration": 0.00971,
     "end_time": "2025-06-22T03:58:20.808011",
     "exception": false,
     "start_time": "2025-06-22T03:58:20.798301",
     "status": "completed"
    },
    "tags": []
   },
   "outputs": [],
   "source": [
    "#predictions"
   ]
  }
 ],
 "metadata": {
  "kaggle": {
   "accelerator": "gpu",
   "dataSources": [
    {
     "databundleVersionId": 861823,
     "sourceId": 3004,
     "sourceType": "competition"
    }
   ],
   "dockerImageVersionId": 31040,
   "isGpuEnabled": true,
   "isInternetEnabled": true,
   "language": "python",
   "sourceType": "notebook"
  },
  "kernelspec": {
   "display_name": "Python 3",
   "language": "python",
   "name": "python3"
  },
  "language_info": {
   "codemirror_mode": {
    "name": "ipython",
    "version": 3
   },
   "file_extension": ".py",
   "mimetype": "text/x-python",
   "name": "python",
   "nbconvert_exporter": "python",
   "pygments_lexer": "ipython3",
   "version": "3.11.11"
  },
  "papermill": {
   "default_parameters": {},
   "duration": 155.843923,
   "end_time": "2025-06-22T03:58:21.230065",
   "environment_variables": {},
   "exception": null,
   "input_path": "__notebook__.ipynb",
   "output_path": "__notebook__.ipynb",
   "parameters": {},
   "start_time": "2025-06-22T03:55:45.386142",
   "version": "2.6.0"
  }
 },
 "nbformat": 4,
 "nbformat_minor": 5
}
