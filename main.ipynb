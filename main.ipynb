{
 "cells": [
  {
   "cell_type": "code",
   "execution_count": 1,
   "id": "e326cea3",
   "metadata": {
    "_cell_guid": "b1076dfc-b9ad-4769-8c92-a6c4dae69d19",
    "_uuid": "8f2839f25d086af736a60e9eeb907d3b93b6e0e5",
    "execution": {
     "iopub.execute_input": "2025-06-22T04:46:38.056011Z",
     "iopub.status.busy": "2025-06-22T04:46:38.055758Z",
     "iopub.status.idle": "2025-06-22T04:46:39.402595Z",
     "shell.execute_reply": "2025-06-22T04:46:39.401778Z"
    },
    "papermill": {
     "duration": 1.353637,
     "end_time": "2025-06-22T04:46:39.404124",
     "exception": false,
     "start_time": "2025-06-22T04:46:38.050487",
     "status": "completed"
    },
    "tags": []
   },
   "outputs": [],
   "source": [
    "import numpy as np\n",
    "import pandas as pd"
   ]
  },
  {
   "cell_type": "code",
   "execution_count": 2,
   "id": "dab8a5b7",
   "metadata": {
    "execution": {
     "iopub.execute_input": "2025-06-22T04:46:39.412247Z",
     "iopub.status.busy": "2025-06-22T04:46:39.411937Z",
     "iopub.status.idle": "2025-06-22T04:46:42.204384Z",
     "shell.execute_reply": "2025-06-22T04:46:42.203777Z"
    },
    "papermill": {
     "duration": 2.79791,
     "end_time": "2025-06-22T04:46:42.205818",
     "exception": false,
     "start_time": "2025-06-22T04:46:39.407908",
     "status": "completed"
    },
    "tags": []
   },
   "outputs": [],
   "source": [
    "df = pd.read_csv('/kaggle/input/digit-recognizer/train.csv')"
   ]
  },
  {
   "cell_type": "code",
   "execution_count": 3,
   "id": "c5466ee2",
   "metadata": {
    "execution": {
     "iopub.execute_input": "2025-06-22T04:46:42.213896Z",
     "iopub.status.busy": "2025-06-22T04:46:42.213290Z",
     "iopub.status.idle": "2025-06-22T04:46:42.236033Z",
     "shell.execute_reply": "2025-06-22T04:46:42.235405Z"
    },
    "papermill": {
     "duration": 0.027656,
     "end_time": "2025-06-22T04:46:42.237099",
     "exception": false,
     "start_time": "2025-06-22T04:46:42.209443",
     "status": "completed"
    },
    "tags": []
   },
   "outputs": [
    {
     "data": {
      "text/html": [
       "<div>\n",
       "<style scoped>\n",
       "    .dataframe tbody tr th:only-of-type {\n",
       "        vertical-align: middle;\n",
       "    }\n",
       "\n",
       "    .dataframe tbody tr th {\n",
       "        vertical-align: top;\n",
       "    }\n",
       "\n",
       "    .dataframe thead th {\n",
       "        text-align: right;\n",
       "    }\n",
       "</style>\n",
       "<table border=\"1\" class=\"dataframe\">\n",
       "  <thead>\n",
       "    <tr style=\"text-align: right;\">\n",
       "      <th></th>\n",
       "      <th>label</th>\n",
       "      <th>pixel0</th>\n",
       "      <th>pixel1</th>\n",
       "      <th>pixel2</th>\n",
       "      <th>pixel3</th>\n",
       "      <th>pixel4</th>\n",
       "      <th>pixel5</th>\n",
       "      <th>pixel6</th>\n",
       "      <th>pixel7</th>\n",
       "      <th>pixel8</th>\n",
       "      <th>...</th>\n",
       "      <th>pixel774</th>\n",
       "      <th>pixel775</th>\n",
       "      <th>pixel776</th>\n",
       "      <th>pixel777</th>\n",
       "      <th>pixel778</th>\n",
       "      <th>pixel779</th>\n",
       "      <th>pixel780</th>\n",
       "      <th>pixel781</th>\n",
       "      <th>pixel782</th>\n",
       "      <th>pixel783</th>\n",
       "    </tr>\n",
       "  </thead>\n",
       "  <tbody>\n",
       "    <tr>\n",
       "      <th>0</th>\n",
       "      <td>1</td>\n",
       "      <td>0</td>\n",
       "      <td>0</td>\n",
       "      <td>0</td>\n",
       "      <td>0</td>\n",
       "      <td>0</td>\n",
       "      <td>0</td>\n",
       "      <td>0</td>\n",
       "      <td>0</td>\n",
       "      <td>0</td>\n",
       "      <td>...</td>\n",
       "      <td>0</td>\n",
       "      <td>0</td>\n",
       "      <td>0</td>\n",
       "      <td>0</td>\n",
       "      <td>0</td>\n",
       "      <td>0</td>\n",
       "      <td>0</td>\n",
       "      <td>0</td>\n",
       "      <td>0</td>\n",
       "      <td>0</td>\n",
       "    </tr>\n",
       "    <tr>\n",
       "      <th>1</th>\n",
       "      <td>0</td>\n",
       "      <td>0</td>\n",
       "      <td>0</td>\n",
       "      <td>0</td>\n",
       "      <td>0</td>\n",
       "      <td>0</td>\n",
       "      <td>0</td>\n",
       "      <td>0</td>\n",
       "      <td>0</td>\n",
       "      <td>0</td>\n",
       "      <td>...</td>\n",
       "      <td>0</td>\n",
       "      <td>0</td>\n",
       "      <td>0</td>\n",
       "      <td>0</td>\n",
       "      <td>0</td>\n",
       "      <td>0</td>\n",
       "      <td>0</td>\n",
       "      <td>0</td>\n",
       "      <td>0</td>\n",
       "      <td>0</td>\n",
       "    </tr>\n",
       "    <tr>\n",
       "      <th>2</th>\n",
       "      <td>1</td>\n",
       "      <td>0</td>\n",
       "      <td>0</td>\n",
       "      <td>0</td>\n",
       "      <td>0</td>\n",
       "      <td>0</td>\n",
       "      <td>0</td>\n",
       "      <td>0</td>\n",
       "      <td>0</td>\n",
       "      <td>0</td>\n",
       "      <td>...</td>\n",
       "      <td>0</td>\n",
       "      <td>0</td>\n",
       "      <td>0</td>\n",
       "      <td>0</td>\n",
       "      <td>0</td>\n",
       "      <td>0</td>\n",
       "      <td>0</td>\n",
       "      <td>0</td>\n",
       "      <td>0</td>\n",
       "      <td>0</td>\n",
       "    </tr>\n",
       "    <tr>\n",
       "      <th>3</th>\n",
       "      <td>4</td>\n",
       "      <td>0</td>\n",
       "      <td>0</td>\n",
       "      <td>0</td>\n",
       "      <td>0</td>\n",
       "      <td>0</td>\n",
       "      <td>0</td>\n",
       "      <td>0</td>\n",
       "      <td>0</td>\n",
       "      <td>0</td>\n",
       "      <td>...</td>\n",
       "      <td>0</td>\n",
       "      <td>0</td>\n",
       "      <td>0</td>\n",
       "      <td>0</td>\n",
       "      <td>0</td>\n",
       "      <td>0</td>\n",
       "      <td>0</td>\n",
       "      <td>0</td>\n",
       "      <td>0</td>\n",
       "      <td>0</td>\n",
       "    </tr>\n",
       "    <tr>\n",
       "      <th>4</th>\n",
       "      <td>0</td>\n",
       "      <td>0</td>\n",
       "      <td>0</td>\n",
       "      <td>0</td>\n",
       "      <td>0</td>\n",
       "      <td>0</td>\n",
       "      <td>0</td>\n",
       "      <td>0</td>\n",
       "      <td>0</td>\n",
       "      <td>0</td>\n",
       "      <td>...</td>\n",
       "      <td>0</td>\n",
       "      <td>0</td>\n",
       "      <td>0</td>\n",
       "      <td>0</td>\n",
       "      <td>0</td>\n",
       "      <td>0</td>\n",
       "      <td>0</td>\n",
       "      <td>0</td>\n",
       "      <td>0</td>\n",
       "      <td>0</td>\n",
       "    </tr>\n",
       "    <tr>\n",
       "      <th>5</th>\n",
       "      <td>0</td>\n",
       "      <td>0</td>\n",
       "      <td>0</td>\n",
       "      <td>0</td>\n",
       "      <td>0</td>\n",
       "      <td>0</td>\n",
       "      <td>0</td>\n",
       "      <td>0</td>\n",
       "      <td>0</td>\n",
       "      <td>0</td>\n",
       "      <td>...</td>\n",
       "      <td>0</td>\n",
       "      <td>0</td>\n",
       "      <td>0</td>\n",
       "      <td>0</td>\n",
       "      <td>0</td>\n",
       "      <td>0</td>\n",
       "      <td>0</td>\n",
       "      <td>0</td>\n",
       "      <td>0</td>\n",
       "      <td>0</td>\n",
       "    </tr>\n",
       "    <tr>\n",
       "      <th>6</th>\n",
       "      <td>7</td>\n",
       "      <td>0</td>\n",
       "      <td>0</td>\n",
       "      <td>0</td>\n",
       "      <td>0</td>\n",
       "      <td>0</td>\n",
       "      <td>0</td>\n",
       "      <td>0</td>\n",
       "      <td>0</td>\n",
       "      <td>0</td>\n",
       "      <td>...</td>\n",
       "      <td>0</td>\n",
       "      <td>0</td>\n",
       "      <td>0</td>\n",
       "      <td>0</td>\n",
       "      <td>0</td>\n",
       "      <td>0</td>\n",
       "      <td>0</td>\n",
       "      <td>0</td>\n",
       "      <td>0</td>\n",
       "      <td>0</td>\n",
       "    </tr>\n",
       "    <tr>\n",
       "      <th>7</th>\n",
       "      <td>3</td>\n",
       "      <td>0</td>\n",
       "      <td>0</td>\n",
       "      <td>0</td>\n",
       "      <td>0</td>\n",
       "      <td>0</td>\n",
       "      <td>0</td>\n",
       "      <td>0</td>\n",
       "      <td>0</td>\n",
       "      <td>0</td>\n",
       "      <td>...</td>\n",
       "      <td>0</td>\n",
       "      <td>0</td>\n",
       "      <td>0</td>\n",
       "      <td>0</td>\n",
       "      <td>0</td>\n",
       "      <td>0</td>\n",
       "      <td>0</td>\n",
       "      <td>0</td>\n",
       "      <td>0</td>\n",
       "      <td>0</td>\n",
       "    </tr>\n",
       "    <tr>\n",
       "      <th>8</th>\n",
       "      <td>5</td>\n",
       "      <td>0</td>\n",
       "      <td>0</td>\n",
       "      <td>0</td>\n",
       "      <td>0</td>\n",
       "      <td>0</td>\n",
       "      <td>0</td>\n",
       "      <td>0</td>\n",
       "      <td>0</td>\n",
       "      <td>0</td>\n",
       "      <td>...</td>\n",
       "      <td>0</td>\n",
       "      <td>0</td>\n",
       "      <td>0</td>\n",
       "      <td>0</td>\n",
       "      <td>0</td>\n",
       "      <td>0</td>\n",
       "      <td>0</td>\n",
       "      <td>0</td>\n",
       "      <td>0</td>\n",
       "      <td>0</td>\n",
       "    </tr>\n",
       "    <tr>\n",
       "      <th>9</th>\n",
       "      <td>3</td>\n",
       "      <td>0</td>\n",
       "      <td>0</td>\n",
       "      <td>0</td>\n",
       "      <td>0</td>\n",
       "      <td>0</td>\n",
       "      <td>0</td>\n",
       "      <td>0</td>\n",
       "      <td>0</td>\n",
       "      <td>0</td>\n",
       "      <td>...</td>\n",
       "      <td>0</td>\n",
       "      <td>0</td>\n",
       "      <td>0</td>\n",
       "      <td>0</td>\n",
       "      <td>0</td>\n",
       "      <td>0</td>\n",
       "      <td>0</td>\n",
       "      <td>0</td>\n",
       "      <td>0</td>\n",
       "      <td>0</td>\n",
       "    </tr>\n",
       "  </tbody>\n",
       "</table>\n",
       "<p>10 rows × 785 columns</p>\n",
       "</div>"
      ],
      "text/plain": [
       "   label  pixel0  pixel1  pixel2  pixel3  pixel4  pixel5  pixel6  pixel7  \\\n",
       "0      1       0       0       0       0       0       0       0       0   \n",
       "1      0       0       0       0       0       0       0       0       0   \n",
       "2      1       0       0       0       0       0       0       0       0   \n",
       "3      4       0       0       0       0       0       0       0       0   \n",
       "4      0       0       0       0       0       0       0       0       0   \n",
       "5      0       0       0       0       0       0       0       0       0   \n",
       "6      7       0       0       0       0       0       0       0       0   \n",
       "7      3       0       0       0       0       0       0       0       0   \n",
       "8      5       0       0       0       0       0       0       0       0   \n",
       "9      3       0       0       0       0       0       0       0       0   \n",
       "\n",
       "   pixel8  ...  pixel774  pixel775  pixel776  pixel777  pixel778  pixel779  \\\n",
       "0       0  ...         0         0         0         0         0         0   \n",
       "1       0  ...         0         0         0         0         0         0   \n",
       "2       0  ...         0         0         0         0         0         0   \n",
       "3       0  ...         0         0         0         0         0         0   \n",
       "4       0  ...         0         0         0         0         0         0   \n",
       "5       0  ...         0         0         0         0         0         0   \n",
       "6       0  ...         0         0         0         0         0         0   \n",
       "7       0  ...         0         0         0         0         0         0   \n",
       "8       0  ...         0         0         0         0         0         0   \n",
       "9       0  ...         0         0         0         0         0         0   \n",
       "\n",
       "   pixel780  pixel781  pixel782  pixel783  \n",
       "0         0         0         0         0  \n",
       "1         0         0         0         0  \n",
       "2         0         0         0         0  \n",
       "3         0         0         0         0  \n",
       "4         0         0         0         0  \n",
       "5         0         0         0         0  \n",
       "6         0         0         0         0  \n",
       "7         0         0         0         0  \n",
       "8         0         0         0         0  \n",
       "9         0         0         0         0  \n",
       "\n",
       "[10 rows x 785 columns]"
      ]
     },
     "execution_count": 3,
     "metadata": {},
     "output_type": "execute_result"
    }
   ],
   "source": [
    "df.head(10)"
   ]
  },
  {
   "cell_type": "code",
   "execution_count": 4,
   "id": "cdd34ec3",
   "metadata": {
    "execution": {
     "iopub.execute_input": "2025-06-22T04:46:42.245540Z",
     "iopub.status.busy": "2025-06-22T04:46:42.244873Z",
     "iopub.status.idle": "2025-06-22T04:46:42.249276Z",
     "shell.execute_reply": "2025-06-22T04:46:42.248756Z"
    },
    "papermill": {
     "duration": 0.009522,
     "end_time": "2025-06-22T04:46:42.250400",
     "exception": false,
     "start_time": "2025-06-22T04:46:42.240878",
     "status": "completed"
    },
    "tags": []
   },
   "outputs": [
    {
     "data": {
      "text/plain": [
       "(42000, 785)"
      ]
     },
     "execution_count": 4,
     "metadata": {},
     "output_type": "execute_result"
    }
   ],
   "source": [
    "df.shape"
   ]
  },
  {
   "cell_type": "code",
   "execution_count": 5,
   "id": "63f729d4",
   "metadata": {
    "execution": {
     "iopub.execute_input": "2025-06-22T04:46:42.258617Z",
     "iopub.status.busy": "2025-06-22T04:46:42.258186Z",
     "iopub.status.idle": "2025-06-22T04:46:42.260979Z",
     "shell.execute_reply": "2025-06-22T04:46:42.260483Z"
    },
    "papermill": {
     "duration": 0.007908,
     "end_time": "2025-06-22T04:46:42.261990",
     "exception": false,
     "start_time": "2025-06-22T04:46:42.254082",
     "status": "completed"
    },
    "tags": []
   },
   "outputs": [],
   "source": [
    "row, col = df.shape"
   ]
  },
  {
   "cell_type": "code",
   "execution_count": 6,
   "id": "7198a7a1",
   "metadata": {
    "execution": {
     "iopub.execute_input": "2025-06-22T04:46:42.270643Z",
     "iopub.status.busy": "2025-06-22T04:46:42.270047Z",
     "iopub.status.idle": "2025-06-22T04:46:42.363528Z",
     "shell.execute_reply": "2025-06-22T04:46:42.362955Z"
    },
    "papermill": {
     "duration": 0.099202,
     "end_time": "2025-06-22T04:46:42.364903",
     "exception": false,
     "start_time": "2025-06-22T04:46:42.265701",
     "status": "completed"
    },
    "tags": []
   },
   "outputs": [],
   "source": [
    "df = np.array(df)\n",
    "# convert our dataset into numpy array"
   ]
  },
  {
   "cell_type": "code",
   "execution_count": 7,
   "id": "0c0fa40e",
   "metadata": {
    "execution": {
     "iopub.execute_input": "2025-06-22T04:46:42.373241Z",
     "iopub.status.busy": "2025-06-22T04:46:42.373036Z",
     "iopub.status.idle": "2025-06-22T04:46:42.376934Z",
     "shell.execute_reply": "2025-06-22T04:46:42.376257Z"
    },
    "papermill": {
     "duration": 0.009248,
     "end_time": "2025-06-22T04:46:42.378067",
     "exception": false,
     "start_time": "2025-06-22T04:46:42.368819",
     "status": "completed"
    },
    "tags": []
   },
   "outputs": [],
   "source": [
    "#2000-42000 rows for training\n",
    "train_data = df[2000:row].T \n",
    "X_train = train_data[1:col]\n",
    "y_train = train_data[0]\n",
    "\n",
    "#first 1000 for test\n",
    "test_data = df[:2000].T\n",
    "X_test = test_data[1:col]\n",
    "y_test = test_data[0]"
   ]
  },
  {
   "cell_type": "code",
   "execution_count": 8,
   "id": "4334e104",
   "metadata": {
    "execution": {
     "iopub.execute_input": "2025-06-22T04:46:42.386263Z",
     "iopub.status.busy": "2025-06-22T04:46:42.385786Z",
     "iopub.status.idle": "2025-06-22T04:46:42.390064Z",
     "shell.execute_reply": "2025-06-22T04:46:42.389550Z"
    },
    "papermill": {
     "duration": 0.009453,
     "end_time": "2025-06-22T04:46:42.391106",
     "exception": false,
     "start_time": "2025-06-22T04:46:42.381653",
     "status": "completed"
    },
    "tags": []
   },
   "outputs": [
    {
     "data": {
      "text/plain": [
       "(784, 40000)"
      ]
     },
     "execution_count": 8,
     "metadata": {},
     "output_type": "execute_result"
    }
   ],
   "source": [
    "X_train.shape"
   ]
  },
  {
   "cell_type": "code",
   "execution_count": 9,
   "id": "22c55ca9",
   "metadata": {
    "execution": {
     "iopub.execute_input": "2025-06-22T04:46:42.399042Z",
     "iopub.status.busy": "2025-06-22T04:46:42.398868Z",
     "iopub.status.idle": "2025-06-22T04:46:42.403262Z",
     "shell.execute_reply": "2025-06-22T04:46:42.402652Z"
    },
    "papermill": {
     "duration": 0.009373,
     "end_time": "2025-06-22T04:46:42.404205",
     "exception": false,
     "start_time": "2025-06-22T04:46:42.394832",
     "status": "completed"
    },
    "tags": []
   },
   "outputs": [
    {
     "data": {
      "text/plain": [
       "array([0, 0, 0, ..., 0, 0, 0])"
      ]
     },
     "execution_count": 9,
     "metadata": {},
     "output_type": "execute_result"
    }
   ],
   "source": [
    "X_train[0]"
   ]
  },
  {
   "cell_type": "code",
   "execution_count": 10,
   "id": "12d24229",
   "metadata": {
    "execution": {
     "iopub.execute_input": "2025-06-22T04:46:42.412377Z",
     "iopub.status.busy": "2025-06-22T04:46:42.412184Z",
     "iopub.status.idle": "2025-06-22T04:46:42.416231Z",
     "shell.execute_reply": "2025-06-22T04:46:42.415723Z"
    },
    "papermill": {
     "duration": 0.009367,
     "end_time": "2025-06-22T04:46:42.417294",
     "exception": false,
     "start_time": "2025-06-22T04:46:42.407927",
     "status": "completed"
    },
    "tags": []
   },
   "outputs": [
    {
     "data": {
      "text/plain": [
       "array([3, 1, 6, ..., 7, 6, 9])"
      ]
     },
     "execution_count": 10,
     "metadata": {},
     "output_type": "execute_result"
    }
   ],
   "source": [
    "y_train"
   ]
  },
  {
   "cell_type": "code",
   "execution_count": 11,
   "id": "6d5758bc",
   "metadata": {
    "execution": {
     "iopub.execute_input": "2025-06-22T04:46:42.425483Z",
     "iopub.status.busy": "2025-06-22T04:46:42.425274Z",
     "iopub.status.idle": "2025-06-22T04:46:42.429209Z",
     "shell.execute_reply": "2025-06-22T04:46:42.428588Z"
    },
    "papermill": {
     "duration": 0.009199,
     "end_time": "2025-06-22T04:46:42.430203",
     "exception": false,
     "start_time": "2025-06-22T04:46:42.421004",
     "status": "completed"
    },
    "tags": []
   },
   "outputs": [],
   "source": [
    "#activation functions \n",
    "\n",
    "def ReLU(Z):\n",
    "    return np.maximum(0,Z)\n",
    "\n",
    "def derivation_ReLU(Z):\n",
    "    return Z>0\n",
    "    \n",
    "def softmax(Z):\n",
    "    expZ = np.exp(Z - np.max(Z, axis=0))\n",
    "    return expZ / np.sum(expZ, axis=0, keepdims=True)"
   ]
  },
  {
   "cell_type": "code",
   "execution_count": 12,
   "id": "9916ea4e",
   "metadata": {
    "execution": {
     "iopub.execute_input": "2025-06-22T04:46:42.438365Z",
     "iopub.status.busy": "2025-06-22T04:46:42.438163Z",
     "iopub.status.idle": "2025-06-22T04:46:42.441839Z",
     "shell.execute_reply": "2025-06-22T04:46:42.441309Z"
    },
    "papermill": {
     "duration": 0.00882,
     "end_time": "2025-06-22T04:46:42.442819",
     "exception": false,
     "start_time": "2025-06-22T04:46:42.433999",
     "status": "completed"
    },
    "tags": []
   },
   "outputs": [],
   "source": [
    "#forward prop.\n",
    "\n",
    "def forward_prop(X,W1,B1,W2,B2):\n",
    "    Z1 = W1.dot(X) + B1\n",
    "    A1 = ReLU(Z1)\n",
    "    Z2 = W2.dot(A1) + B2\n",
    "    A2 = softmax(Z2)\n",
    "    return Z1,A1,Z2,A2"
   ]
  },
  {
   "cell_type": "code",
   "execution_count": 13,
   "id": "770ae538",
   "metadata": {
    "execution": {
     "iopub.execute_input": "2025-06-22T04:46:42.450923Z",
     "iopub.status.busy": "2025-06-22T04:46:42.450575Z",
     "iopub.status.idle": "2025-06-22T04:46:42.454002Z",
     "shell.execute_reply": "2025-06-22T04:46:42.453332Z"
    },
    "papermill": {
     "duration": 0.008546,
     "end_time": "2025-06-22T04:46:42.455005",
     "exception": false,
     "start_time": "2025-06-22T04:46:42.446459",
     "status": "completed"
    },
    "tags": []
   },
   "outputs": [],
   "source": [
    "#one hot encoding\n",
    "\n",
    "def one_hot(Y):\n",
    "    return np.eye(Y.max() + 1)[Y]\n"
   ]
  },
  {
   "cell_type": "code",
   "execution_count": 14,
   "id": "148b9c86",
   "metadata": {
    "execution": {
     "iopub.execute_input": "2025-06-22T04:46:42.463526Z",
     "iopub.status.busy": "2025-06-22T04:46:42.463310Z",
     "iopub.status.idle": "2025-06-22T04:46:42.467781Z",
     "shell.execute_reply": "2025-06-22T04:46:42.467102Z"
    },
    "papermill": {
     "duration": 0.009724,
     "end_time": "2025-06-22T04:46:42.468873",
     "exception": false,
     "start_time": "2025-06-22T04:46:42.459149",
     "status": "completed"
    },
    "tags": []
   },
   "outputs": [],
   "source": [
    "#back prop\n",
    "\n",
    "def back_prop(X, Y, Z1, Z2, A1, A2, W1, W2):\n",
    "\n",
    "    m = X.shape[1]\n",
    "\n",
    "    Y = one_hot(Y).T\n",
    "    dL_dZ2 = A2 - Y\n",
    "    dL_dW2 = 1/m * dL_dZ2.dot(A1.T)\n",
    "    dL_dB2 = 1/m * np.sum(dL_dZ2, axis=1, keepdims=True)\n",
    "    dL_dZ1 = (W2.T.dot(dL_dZ2)) * derivation_ReLU(Z1)\n",
    "    dL_dW1 = 1/m * dL_dZ1.dot(X.T)\n",
    "    dL_dB1 = 1/m * np.sum(dL_dZ1, axis=1, keepdims=True)\n",
    "\n",
    "    return dL_dW1,dL_dB1,dL_dW2,dL_dB2"
   ]
  },
  {
   "cell_type": "code",
   "execution_count": 15,
   "id": "438a8b68",
   "metadata": {
    "execution": {
     "iopub.execute_input": "2025-06-22T04:46:42.476898Z",
     "iopub.status.busy": "2025-06-22T04:46:42.476730Z",
     "iopub.status.idle": "2025-06-22T04:46:42.480836Z",
     "shell.execute_reply": "2025-06-22T04:46:42.480161Z"
    },
    "papermill": {
     "duration": 0.009335,
     "end_time": "2025-06-22T04:46:42.481930",
     "exception": false,
     "start_time": "2025-06-22T04:46:42.472595",
     "status": "completed"
    },
    "tags": []
   },
   "outputs": [],
   "source": [
    "#we cant init params with jst 0\n",
    "#if they are all zeroz then they learn same...\n",
    "\n",
    "def initilize_params():\n",
    "    \n",
    "    np.random.seed(9)\n",
    "    \n",
    "    W1 = np.random.randn(64, 784) * np.sqrt(1. / 784)\n",
    "    B1 = np.zeros((64, 1))\n",
    "    \n",
    "    W2 = np.random.randn(10, 64) * np.sqrt(1. / 64)\n",
    "    B2 = np.zeros((10, 1))\n",
    "    \n",
    "    return W1, B1, W2, B2"
   ]
  },
  {
   "cell_type": "code",
   "execution_count": 16,
   "id": "afd7a0d3",
   "metadata": {
    "execution": {
     "iopub.execute_input": "2025-06-22T04:46:42.489931Z",
     "iopub.status.busy": "2025-06-22T04:46:42.489763Z",
     "iopub.status.idle": "2025-06-22T04:46:42.493120Z",
     "shell.execute_reply": "2025-06-22T04:46:42.492626Z"
    },
    "papermill": {
     "duration": 0.008374,
     "end_time": "2025-06-22T04:46:42.494078",
     "exception": false,
     "start_time": "2025-06-22T04:46:42.485704",
     "status": "completed"
    },
    "tags": []
   },
   "outputs": [],
   "source": [
    "#Update params\n",
    "\n",
    "def update(W1, B1, W2, B2, dL_dW1, dL_dB1, dL_dW2, dL_dB2, alpha):\n",
    "    W1 = W1 - alpha * dL_dW1 #alpha = learning rate\n",
    "    B1 = B1 - alpha * dL_dB1\n",
    "\n",
    "    W2 = W2 - alpha * dL_dW2\n",
    "    B2 = B2 - alpha * dL_dB2\n",
    "\n",
    "    return W1, B1, W2, B2 "
   ]
  },
  {
   "cell_type": "code",
   "execution_count": 17,
   "id": "583b2ec2",
   "metadata": {
    "execution": {
     "iopub.execute_input": "2025-06-22T04:46:42.501965Z",
     "iopub.status.busy": "2025-06-22T04:46:42.501797Z",
     "iopub.status.idle": "2025-06-22T04:46:42.506926Z",
     "shell.execute_reply": "2025-06-22T04:46:42.506394Z"
    },
    "papermill": {
     "duration": 0.010211,
     "end_time": "2025-06-22T04:46:42.507936",
     "exception": false,
     "start_time": "2025-06-22T04:46:42.497725",
     "status": "completed"
    },
    "tags": []
   },
   "outputs": [],
   "source": [
    "#TRAINING...\n",
    "\n",
    "#this will return max possibility for every digit\n",
    "def preds(A2):\n",
    "    return np.argmax(A2,0)\n",
    "\n",
    "def acc(Y, preds):\n",
    "    # print(Y)\n",
    "    return np.sum(Y == preds)/ Y.size\n",
    "\n",
    "def gradient_descent(X, Y, alpha, itrs):\n",
    "    W1, B1, W2, B2 = initilize_params()\n",
    "\n",
    "    for i in range(itrs):\n",
    "        Z1,A1,Z2,A2 = forward_prop(X,W1,B1,W2,B2)\n",
    "        dL_dW1, dL_dB1, dL_dW2, dL_dB2 = back_prop(X, Y, Z1, Z2, A1, A2, W1, W2)\n",
    "        W1, B1, W2, B2 = update(W1, B1, W2, B2, dL_dW1, dL_dB1, dL_dW2, dL_dB2, alpha)\n",
    "\n",
    "        if i % 10 == 0:\n",
    "            print(f'Iteration: {i}')\n",
    "            pred = preds(A2)\n",
    "            accuracy = acc(Y, pred)\n",
    "            print((Y,pred))\n",
    "            print(f'accuracy: {accuracy}')\n",
    "            print()\n",
    "            \n",
    "    return W1, B1,W2,B2"
   ]
  },
  {
   "cell_type": "code",
   "execution_count": 18,
   "id": "5cf21cd9",
   "metadata": {
    "_kg_hide-input": false,
    "execution": {
     "iopub.execute_input": "2025-06-22T04:46:42.516602Z",
     "iopub.status.busy": "2025-06-22T04:46:42.516005Z",
     "iopub.status.idle": "2025-06-22T04:49:10.044838Z",
     "shell.execute_reply": "2025-06-22T04:49:10.044005Z"
    },
    "papermill": {
     "duration": 147.534526,
     "end_time": "2025-06-22T04:49:10.046342",
     "exception": false,
     "start_time": "2025-06-22T04:46:42.511816",
     "status": "completed"
    },
    "tags": []
   },
   "outputs": [
    {
     "name": "stdout",
     "output_type": "stream",
     "text": [
      "Iteration: 0\n",
      "(array([3, 1, 6, ..., 7, 6, 9]), array([2, 2, 2, ..., 1, 1, 1]))\n",
      "accuracy: 0.0804\n",
      "\n",
      "Iteration: 10\n",
      "(array([3, 1, 6, ..., 7, 6, 9]), array([8, 1, 2, ..., 7, 6, 9]))\n",
      "accuracy: 0.49815\n",
      "\n",
      "Iteration: 20\n",
      "(array([3, 1, 6, ..., 7, 6, 9]), array([6, 1, 0, ..., 7, 6, 9]))\n",
      "accuracy: 0.5146\n",
      "\n",
      "Iteration: 30\n",
      "(array([3, 1, 6, ..., 7, 6, 9]), array([6, 1, 0, ..., 7, 6, 9]))\n",
      "accuracy: 0.529925\n",
      "\n",
      "Iteration: 40\n",
      "(array([3, 1, 6, ..., 7, 6, 9]), array([9, 1, 0, ..., 7, 6, 9]))\n",
      "accuracy: 0.557225\n",
      "\n",
      "Iteration: 50\n",
      "(array([3, 1, 6, ..., 7, 6, 9]), array([9, 1, 2, ..., 7, 6, 9]))\n",
      "accuracy: 0.580025\n",
      "\n",
      "Iteration: 60\n",
      "(array([3, 1, 6, ..., 7, 6, 9]), array([9, 1, 2, ..., 7, 6, 9]))\n",
      "accuracy: 0.6011\n",
      "\n",
      "Iteration: 70\n",
      "(array([3, 1, 6, ..., 7, 6, 9]), array([9, 1, 2, ..., 7, 6, 9]))\n",
      "accuracy: 0.6183\n",
      "\n",
      "Iteration: 80\n",
      "(array([3, 1, 6, ..., 7, 6, 9]), array([9, 1, 2, ..., 7, 6, 9]))\n",
      "accuracy: 0.63895\n",
      "\n",
      "Iteration: 90\n",
      "(array([3, 1, 6, ..., 7, 6, 9]), array([9, 1, 2, ..., 7, 6, 9]))\n",
      "accuracy: 0.654075\n",
      "\n",
      "Iteration: 100\n",
      "(array([3, 1, 6, ..., 7, 6, 9]), array([9, 1, 2, ..., 7, 6, 9]))\n",
      "accuracy: 0.667225\n",
      "\n",
      "Iteration: 110\n",
      "(array([3, 1, 6, ..., 7, 6, 9]), array([8, 1, 2, ..., 7, 6, 8]))\n",
      "accuracy: 0.690725\n",
      "\n",
      "Iteration: 120\n",
      "(array([3, 1, 6, ..., 7, 6, 9]), array([8, 1, 2, ..., 7, 6, 8]))\n",
      "accuracy: 0.69975\n",
      "\n",
      "Iteration: 130\n",
      "(array([3, 1, 6, ..., 7, 6, 9]), array([8, 1, 2, ..., 7, 6, 8]))\n",
      "accuracy: 0.709775\n",
      "\n",
      "Iteration: 140\n",
      "(array([3, 1, 6, ..., 7, 6, 9]), array([3, 1, 2, ..., 7, 6, 8]))\n",
      "accuracy: 0.718225\n",
      "\n",
      "Iteration: 150\n",
      "(array([3, 1, 6, ..., 7, 6, 9]), array([3, 1, 2, ..., 7, 6, 8]))\n",
      "accuracy: 0.72605\n",
      "\n",
      "Iteration: 160\n",
      "(array([3, 1, 6, ..., 7, 6, 9]), array([3, 1, 2, ..., 7, 6, 8]))\n",
      "accuracy: 0.7335\n",
      "\n",
      "Iteration: 170\n",
      "(array([3, 1, 6, ..., 7, 6, 9]), array([3, 1, 2, ..., 7, 6, 8]))\n",
      "accuracy: 0.740425\n",
      "\n",
      "Iteration: 180\n",
      "(array([3, 1, 6, ..., 7, 6, 9]), array([3, 1, 2, ..., 7, 6, 8]))\n",
      "accuracy: 0.746825\n",
      "\n",
      "Iteration: 190\n",
      "(array([3, 1, 6, ..., 7, 6, 9]), array([3, 1, 2, ..., 7, 6, 8]))\n",
      "accuracy: 0.751925\n",
      "\n",
      "Iteration: 200\n",
      "(array([3, 1, 6, ..., 7, 6, 9]), array([3, 1, 2, ..., 7, 6, 8]))\n",
      "accuracy: 0.756725\n",
      "\n",
      "Iteration: 210\n",
      "(array([3, 1, 6, ..., 7, 6, 9]), array([3, 1, 2, ..., 7, 6, 8]))\n",
      "accuracy: 0.762825\n",
      "\n",
      "Iteration: 220\n",
      "(array([3, 1, 6, ..., 7, 6, 9]), array([3, 1, 2, ..., 7, 6, 8]))\n",
      "accuracy: 0.76735\n",
      "\n",
      "Iteration: 230\n",
      "(array([3, 1, 6, ..., 7, 6, 9]), array([3, 1, 6, ..., 7, 6, 9]))\n",
      "accuracy: 0.7721\n",
      "\n",
      "Iteration: 240\n",
      "(array([3, 1, 6, ..., 7, 6, 9]), array([3, 1, 6, ..., 7, 6, 9]))\n",
      "accuracy: 0.776725\n",
      "\n",
      "Iteration: 250\n",
      "(array([3, 1, 6, ..., 7, 6, 9]), array([3, 1, 6, ..., 7, 6, 9]))\n",
      "accuracy: 0.78075\n",
      "\n",
      "Iteration: 260\n",
      "(array([3, 1, 6, ..., 7, 6, 9]), array([3, 1, 6, ..., 7, 6, 9]))\n",
      "accuracy: 0.7843\n",
      "\n",
      "Iteration: 270\n",
      "(array([3, 1, 6, ..., 7, 6, 9]), array([3, 1, 6, ..., 7, 6, 9]))\n",
      "accuracy: 0.7879\n",
      "\n",
      "Iteration: 280\n",
      "(array([3, 1, 6, ..., 7, 6, 9]), array([3, 1, 6, ..., 7, 6, 9]))\n",
      "accuracy: 0.791425\n",
      "\n",
      "Iteration: 290\n",
      "(array([3, 1, 6, ..., 7, 6, 9]), array([3, 1, 6, ..., 7, 6, 9]))\n",
      "accuracy: 0.793925\n",
      "\n",
      "Iteration: 300\n",
      "(array([3, 1, 6, ..., 7, 6, 9]), array([3, 1, 6, ..., 7, 6, 9]))\n",
      "accuracy: 0.796825\n",
      "\n",
      "Iteration: 310\n",
      "(array([3, 1, 6, ..., 7, 6, 9]), array([3, 1, 6, ..., 7, 6, 9]))\n",
      "accuracy: 0.79945\n",
      "\n",
      "Iteration: 320\n",
      "(array([3, 1, 6, ..., 7, 6, 9]), array([3, 1, 6, ..., 7, 6, 9]))\n",
      "accuracy: 0.8022\n",
      "\n",
      "Iteration: 330\n",
      "(array([3, 1, 6, ..., 7, 6, 9]), array([3, 1, 6, ..., 7, 6, 9]))\n",
      "accuracy: 0.8047\n",
      "\n",
      "Iteration: 340\n",
      "(array([3, 1, 6, ..., 7, 6, 9]), array([3, 1, 6, ..., 7, 6, 9]))\n",
      "accuracy: 0.807975\n",
      "\n",
      "Iteration: 350\n",
      "(array([3, 1, 6, ..., 7, 6, 9]), array([3, 8, 6, ..., 7, 6, 9]))\n",
      "accuracy: 0.8104\n",
      "\n",
      "Iteration: 360\n",
      "(array([3, 1, 6, ..., 7, 6, 9]), array([3, 8, 6, ..., 7, 6, 9]))\n",
      "accuracy: 0.8127\n",
      "\n",
      "Iteration: 370\n",
      "(array([3, 1, 6, ..., 7, 6, 9]), array([3, 8, 6, ..., 7, 6, 9]))\n",
      "accuracy: 0.814575\n",
      "\n",
      "Iteration: 380\n",
      "(array([3, 1, 6, ..., 7, 6, 9]), array([3, 8, 6, ..., 7, 6, 9]))\n",
      "accuracy: 0.8174\n",
      "\n",
      "Iteration: 390\n",
      "(array([3, 1, 6, ..., 7, 6, 9]), array([3, 8, 6, ..., 7, 6, 9]))\n",
      "accuracy: 0.8198\n",
      "\n",
      "Iteration: 400\n",
      "(array([3, 1, 6, ..., 7, 6, 9]), array([3, 8, 6, ..., 7, 6, 9]))\n",
      "accuracy: 0.8221\n",
      "\n",
      "Iteration: 410\n",
      "(array([3, 1, 6, ..., 7, 6, 9]), array([3, 8, 6, ..., 7, 6, 9]))\n",
      "accuracy: 0.824275\n",
      "\n",
      "Iteration: 420\n",
      "(array([3, 1, 6, ..., 7, 6, 9]), array([3, 8, 6, ..., 7, 6, 9]))\n",
      "accuracy: 0.82635\n",
      "\n",
      "Iteration: 430\n",
      "(array([3, 1, 6, ..., 7, 6, 9]), array([3, 8, 6, ..., 7, 6, 9]))\n",
      "accuracy: 0.82835\n",
      "\n",
      "Iteration: 440\n",
      "(array([3, 1, 6, ..., 7, 6, 9]), array([3, 8, 6, ..., 7, 6, 9]))\n",
      "accuracy: 0.8303\n",
      "\n",
      "Iteration: 450\n",
      "(array([3, 1, 6, ..., 7, 6, 9]), array([3, 8, 6, ..., 7, 6, 9]))\n",
      "accuracy: 0.8322\n",
      "\n",
      "Iteration: 460\n",
      "(array([3, 1, 6, ..., 7, 6, 9]), array([3, 8, 6, ..., 7, 6, 9]))\n",
      "accuracy: 0.833725\n",
      "\n",
      "Iteration: 470\n",
      "(array([3, 1, 6, ..., 7, 6, 9]), array([3, 8, 6, ..., 7, 6, 9]))\n",
      "accuracy: 0.835375\n",
      "\n",
      "Iteration: 480\n",
      "(array([3, 1, 6, ..., 7, 6, 9]), array([3, 8, 6, ..., 7, 6, 9]))\n",
      "accuracy: 0.836675\n",
      "\n",
      "Iteration: 490\n",
      "(array([3, 1, 6, ..., 7, 6, 9]), array([3, 8, 6, ..., 7, 6, 9]))\n",
      "accuracy: 0.838175\n",
      "\n"
     ]
    }
   ],
   "source": [
    "W1, B1, W2, B2 = gradient_descent(X_train, y_train, 0.001, 500)"
   ]
  },
  {
   "cell_type": "markdown",
   "id": "3cfa50ae",
   "metadata": {
    "papermill": {
     "duration": 0.005451,
     "end_time": "2025-06-22T04:49:10.059440",
     "exception": false,
     "start_time": "2025-06-22T04:49:10.053989",
     "status": "completed"
    },
    "tags": []
   },
   "source": [
    "we got 83% Accuracy...."
   ]
  },
  {
   "cell_type": "code",
   "execution_count": 19,
   "id": "6ef53b1d",
   "metadata": {
    "execution": {
     "iopub.execute_input": "2025-06-22T04:49:10.071240Z",
     "iopub.status.busy": "2025-06-22T04:49:10.070991Z",
     "iopub.status.idle": "2025-06-22T04:49:10.075926Z",
     "shell.execute_reply": "2025-06-22T04:49:10.075381Z"
    },
    "papermill": {
     "duration": 0.012165,
     "end_time": "2025-06-22T04:49:10.076981",
     "exception": false,
     "start_time": "2025-06-22T04:49:10.064816",
     "status": "completed"
    },
    "tags": []
   },
   "outputs": [],
   "source": [
    "#predictions\n",
    "import matplotlib.pyplot as plt\n",
    "\n",
    "def make_pred(X, W1, B1,W2,B2):\n",
    "    _,_,_,A2 = forward_prop(X,W1,B1,W2,B2)\n",
    "    pred = preds(A2)\n",
    "    return pred\n",
    "\n",
    "def test_preds(i, W1, B1, W2, B2):\n",
    "    test_img = X_train[:,i,None]\n",
    "    pred = make_pred(test_img, W1, B1,W2,B2)\n",
    "    lbl = y_train[i]\n",
    "    print(\"Lable: \",lbl)\n",
    "    print(\"Prediction: \", pred)\n",
    "\n",
    "    test_img = test_img.reshape((28, 28)) * 255\n",
    "    plt.gray()\n",
    "    plt.imshow(test_img, interpolation='nearest')\n",
    "    plt.show()"
   ]
  },
  {
   "cell_type": "code",
   "execution_count": 20,
   "id": "a08b87e7",
   "metadata": {
    "execution": {
     "iopub.execute_input": "2025-06-22T04:49:10.088922Z",
     "iopub.status.busy": "2025-06-22T04:49:10.088719Z",
     "iopub.status.idle": "2025-06-22T04:49:10.772593Z",
     "shell.execute_reply": "2025-06-22T04:49:10.771823Z"
    },
    "papermill": {
     "duration": 0.691058,
     "end_time": "2025-06-22T04:49:10.773750",
     "exception": false,
     "start_time": "2025-06-22T04:49:10.082692",
     "status": "completed"
    },
    "tags": []
   },
   "outputs": [
    {
     "name": "stdout",
     "output_type": "stream",
     "text": [
      "Lable:  3\n",
      "Prediction:  [3]\n"
     ]
    },
    {
     "data": {
      "image/png": "[encoded data removed]",
      "text/plain": [
       "<Figure size 640x480 with 1 Axes>"
      ]
     },
     "metadata": {},
     "output_type": "display_data"
    },
    {
     "name": "stdout",
     "output_type": "stream",
     "text": [
      "Lable:  1\n",
      "Prediction:  [8]\n"
     ]
    },
    {
     "data": {
      "image/png": "[encoded data removed]",
      "text/plain": [
       "<Figure size 640x480 with 1 Axes>"
      ]
     },
     "metadata": {},
     "output_type": "display_data"
    },
    {
     "name": "stdout",
     "output_type": "stream",
     "text": [
      "Lable:  6\n",
      "Prediction:  [6]\n"
     ]
    },
    {
     "data": {
      "image/png": "[encoded data removed]",
      "text/plain": [
       "<Figure size 640x480 with 1 Axes>"
      ]
     },
     "metadata": {},
     "output_type": "display_data"
    },
    {
     "name": "stdout",
     "output_type": "stream",
     "text": [
      "Lable:  4\n",
      "Prediction:  [4]\n"
     ]
    },
    {
     "data": {
      "image/png": "[encoded data removed]",
      "text/plain": [
       "<Figure size 640x480 with 1 Axes>"
      ]
     },
     "metadata": {},
     "output_type": "display_data"
    },
    {
     "name": "stdout",
     "output_type": "stream",
     "text": [
      "Lable:  5\n",
      "Prediction:  [5]\n"
     ]
    },
    {
     "data": {
      "image/png": "[encoded data removed]",
      "text/plain": [
       "<Figure size 640x480 with 1 Axes>"
      ]
     },
     "metadata": {},
     "output_type": "display_data"
    }
   ],
   "source": [
    "test_preds(0, W1, B1, W2, B2)\n",
    "test_preds(1, W1, B1, W2, B2)\n",
    "test_preds(2, W1, B1, W2, B2)\n",
    "test_preds(3, W1, B1, W2, B2)\n",
    "test_preds(4, W1, B1, W2, B2)"
   ]
  },
  {
   "cell_type": "code",
   "execution_count": 21,
   "id": "c9d9d987",
   "metadata": {
    "execution": {
     "iopub.execute_input": "2025-06-22T04:49:10.788692Z",
     "iopub.status.busy": "2025-06-22T04:49:10.788398Z",
     "iopub.status.idle": "2025-06-22T04:49:10.801553Z",
     "shell.execute_reply": "2025-06-22T04:49:10.800909Z"
    },
    "papermill": {
     "duration": 0.021809,
     "end_time": "2025-06-22T04:49:10.802742",
     "exception": false,
     "start_time": "2025-06-22T04:49:10.780933",
     "status": "completed"
    },
    "tags": []
   },
   "outputs": [
    {
     "data": {
      "text/plain": [
       "0.8265"
      ]
     },
     "execution_count": 21,
     "metadata": {},
     "output_type": "execute_result"
    }
   ],
   "source": [
    "test_predictions = make_pred(X_test, W1, B1,W2,B2)\n",
    "acc(test_predictions, y_test)"
   ]
  },
  {
   "cell_type": "markdown",
   "id": "d714ba86",
   "metadata": {
    "papermill": {
     "duration": 0.006475,
     "end_time": "2025-06-22T04:49:10.816082",
     "exception": false,
     "start_time": "2025-06-22T04:49:10.809607",
     "status": "completed"
    },
    "tags": []
   },
   "source": [
    "82% Accuracy!"
   ]
  },
  {
   "cell_type": "code",
   "execution_count": null,
   "id": "074ca03a",
   "metadata": {
    "papermill": {
     "duration": 0.006402,
     "end_time": "2025-06-22T04:49:10.829152",
     "exception": false,
     "start_time": "2025-06-22T04:49:10.822750",
     "status": "completed"
    },
    "tags": []
   },
   "outputs": [],
   "source": []
  }
 ],
 "metadata": {
  "kaggle": {
   "accelerator": "gpu",
   "dataSources": [
    {
     "databundleVersionId": 861823,
     "sourceId": 3004,
     "sourceType": "competition"
    }
   ],
   "dockerImageVersionId": 31040,
   "isGpuEnabled": true,
   "isInternetEnabled": true,
   "language": "python",
   "sourceType": "notebook"
  },
  "kernelspec": {
   "display_name": "Python 3",
   "language": "python",
   "name": "python3"
  },
  "language_info": {
   "codemirror_mode": {
    "name": "ipython",
    "version": 3
   },
   "file_extension": ".py",
   "mimetype": "text/x-python",
   "name": "python",
   "nbconvert_exporter": "python",
   "pygments_lexer": "ipython3",
   "version": "3.11.11"
  },
  "papermill": {
   "default_parameters": {},
   "duration": 157.265758,
   "end_time": "2025-06-22T04:49:11.252923",
   "environment_variables": {},
   "exception": null,
   "input_path": "__notebook__.ipynb",
   "output_path": "__notebook__.ipynb",
   "parameters": {},
   "start_time": "2025-06-22T04:46:33.987165",
   "version": "2.6.0"
  }
 },
 "nbformat": 4,
 "nbformat_minor": 5
}
